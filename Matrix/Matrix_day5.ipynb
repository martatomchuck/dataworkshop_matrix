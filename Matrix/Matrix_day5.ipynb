{
  "nbformat": 4,
  "nbformat_minor": 0,
  "metadata": {
    "colab": {
      "name": "Matrix_day5.ipynb",
      "provenance": [],
      "collapsed_sections": []
    },
    "kernelspec": {
      "name": "python3",
      "display_name": "Python 3"
    },
    "widgets": {
      "application/vnd.jupyter.widget-state+json": {
        "c82f02e28ba14e058601a5a637aa8714": {
          "model_module": "@jupyter-widgets/controls",
          "model_name": "HBoxModel",
          "state": {
            "_view_name": "HBoxView",
            "_dom_classes": [],
            "_model_name": "HBoxModel",
            "_view_module": "@jupyter-widgets/controls",
            "_model_module_version": "1.5.0",
            "_view_count": null,
            "_view_module_version": "1.5.0",
            "box_style": "",
            "layout": "IPY_MODEL_5ab7f46eba464889ac9079e9ae442473",
            "_model_module": "@jupyter-widgets/controls",
            "children": [
              "IPY_MODEL_dad16ad5b26948a1988507e9a876645f",
              "IPY_MODEL_10f06aa2f75246939dc668b790a96f4c"
            ]
          }
        },
        "5ab7f46eba464889ac9079e9ae442473": {
          "model_module": "@jupyter-widgets/base",
          "model_name": "LayoutModel",
          "state": {
            "_view_name": "LayoutView",
            "grid_template_rows": null,
            "right": null,
            "justify_content": null,
            "_view_module": "@jupyter-widgets/base",
            "overflow": null,
            "_model_module_version": "1.2.0",
            "_view_count": null,
            "flex_flow": null,
            "width": null,
            "min_width": null,
            "border": null,
            "align_items": null,
            "bottom": null,
            "_model_module": "@jupyter-widgets/base",
            "top": null,
            "grid_column": null,
            "overflow_y": null,
            "overflow_x": null,
            "grid_auto_flow": null,
            "grid_area": null,
            "grid_template_columns": null,
            "flex": null,
            "_model_name": "LayoutModel",
            "justify_items": null,
            "grid_row": null,
            "max_height": null,
            "align_content": null,
            "visibility": null,
            "align_self": null,
            "height": null,
            "min_height": null,
            "padding": null,
            "grid_auto_rows": null,
            "grid_gap": null,
            "max_width": null,
            "order": null,
            "_view_module_version": "1.2.0",
            "grid_template_areas": null,
            "object_position": null,
            "object_fit": null,
            "grid_auto_columns": null,
            "margin": null,
            "display": null,
            "left": null
          }
        },
        "dad16ad5b26948a1988507e9a876645f": {
          "model_module": "@jupyter-widgets/controls",
          "model_name": "IntProgressModel",
          "state": {
            "_view_name": "ProgressView",
            "style": "IPY_MODEL_5e57a2979c4e4ea5b0a1c755a2c688cc",
            "_dom_classes": [],
            "description": "",
            "_model_name": "IntProgressModel",
            "bar_style": "success",
            "max": 476,
            "_view_module": "@jupyter-widgets/controls",
            "_model_module_version": "1.5.0",
            "value": 476,
            "_view_count": null,
            "_view_module_version": "1.5.0",
            "orientation": "horizontal",
            "min": 0,
            "description_tooltip": null,
            "_model_module": "@jupyter-widgets/controls",
            "layout": "IPY_MODEL_f489dfe1dab148e5a0e314927f06af0c"
          }
        },
        "10f06aa2f75246939dc668b790a96f4c": {
          "model_module": "@jupyter-widgets/controls",
          "model_name": "HTMLModel",
          "state": {
            "_view_name": "HTMLView",
            "style": "IPY_MODEL_11591bb690ef4f6bbb4851ae5ac5c275",
            "_dom_classes": [],
            "description": "",
            "_model_name": "HTMLModel",
            "placeholder": "​",
            "_view_module": "@jupyter-widgets/controls",
            "_model_module_version": "1.5.0",
            "value": "100% 476/476 [00:03&lt;00:00, 125.48it/s]",
            "_view_count": null,
            "_view_module_version": "1.5.0",
            "description_tooltip": null,
            "_model_module": "@jupyter-widgets/controls",
            "layout": "IPY_MODEL_024c171058894809b15e63eaaa0fb048"
          }
        },
        "5e57a2979c4e4ea5b0a1c755a2c688cc": {
          "model_module": "@jupyter-widgets/controls",
          "model_name": "ProgressStyleModel",
          "state": {
            "_view_name": "StyleView",
            "_model_name": "ProgressStyleModel",
            "description_width": "",
            "_view_module": "@jupyter-widgets/base",
            "_model_module_version": "1.5.0",
            "_view_count": null,
            "_view_module_version": "1.2.0",
            "bar_color": null,
            "_model_module": "@jupyter-widgets/controls"
          }
        },
        "f489dfe1dab148e5a0e314927f06af0c": {
          "model_module": "@jupyter-widgets/base",
          "model_name": "LayoutModel",
          "state": {
            "_view_name": "LayoutView",
            "grid_template_rows": null,
            "right": null,
            "justify_content": null,
            "_view_module": "@jupyter-widgets/base",
            "overflow": null,
            "_model_module_version": "1.2.0",
            "_view_count": null,
            "flex_flow": null,
            "width": null,
            "min_width": null,
            "border": null,
            "align_items": null,
            "bottom": null,
            "_model_module": "@jupyter-widgets/base",
            "top": null,
            "grid_column": null,
            "overflow_y": null,
            "overflow_x": null,
            "grid_auto_flow": null,
            "grid_area": null,
            "grid_template_columns": null,
            "flex": null,
            "_model_name": "LayoutModel",
            "justify_items": null,
            "grid_row": null,
            "max_height": null,
            "align_content": null,
            "visibility": null,
            "align_self": null,
            "height": null,
            "min_height": null,
            "padding": null,
            "grid_auto_rows": null,
            "grid_gap": null,
            "max_width": null,
            "order": null,
            "_view_module_version": "1.2.0",
            "grid_template_areas": null,
            "object_position": null,
            "object_fit": null,
            "grid_auto_columns": null,
            "margin": null,
            "display": null,
            "left": null
          }
        },
        "11591bb690ef4f6bbb4851ae5ac5c275": {
          "model_module": "@jupyter-widgets/controls",
          "model_name": "DescriptionStyleModel",
          "state": {
            "_view_name": "StyleView",
            "_model_name": "DescriptionStyleModel",
            "description_width": "",
            "_view_module": "@jupyter-widgets/base",
            "_model_module_version": "1.5.0",
            "_view_count": null,
            "_view_module_version": "1.2.0",
            "_model_module": "@jupyter-widgets/controls"
          }
        },
        "024c171058894809b15e63eaaa0fb048": {
          "model_module": "@jupyter-widgets/base",
          "model_name": "LayoutModel",
          "state": {
            "_view_name": "LayoutView",
            "grid_template_rows": null,
            "right": null,
            "justify_content": null,
            "_view_module": "@jupyter-widgets/base",
            "overflow": null,
            "_model_module_version": "1.2.0",
            "_view_count": null,
            "flex_flow": null,
            "width": null,
            "min_width": null,
            "border": null,
            "align_items": null,
            "bottom": null,
            "_model_module": "@jupyter-widgets/base",
            "top": null,
            "grid_column": null,
            "overflow_y": null,
            "overflow_x": null,
            "grid_auto_flow": null,
            "grid_area": null,
            "grid_template_columns": null,
            "flex": null,
            "_model_name": "LayoutModel",
            "justify_items": null,
            "grid_row": null,
            "max_height": null,
            "align_content": null,
            "visibility": null,
            "align_self": null,
            "height": null,
            "min_height": null,
            "padding": null,
            "grid_auto_rows": null,
            "grid_gap": null,
            "max_width": null,
            "order": null,
            "_view_module_version": "1.2.0",
            "grid_template_areas": null,
            "object_position": null,
            "object_fit": null,
            "grid_auto_columns": null,
            "margin": null,
            "display": null,
            "left": null
          }
        }
      }
    }
  },
  "cells": [
    {
      "cell_type": "code",
      "metadata": {
        "id": "qYx85iEmeG2W",
        "colab_type": "code",
        "colab": {
          "base_uri": "https://localhost:8080/",
          "height": 272
        },
        "outputId": "1c2f3139-32de-45c7-e2eb-1c6489386b19"
      },
      "source": [
        "!pip install eli5"
      ],
      "execution_count": 1,
      "outputs": [
        {
          "output_type": "stream",
          "text": [
            "Collecting eli5\n",
            "\u001b[?25l  Downloading https://files.pythonhosted.org/packages/97/2f/c85c7d8f8548e460829971785347e14e45fa5c6617da374711dec8cb38cc/eli5-0.10.1-py2.py3-none-any.whl (105kB)\n",
            "\r\u001b[K     |███                             | 10kB 17.6MB/s eta 0:00:01\r\u001b[K     |██████▏                         | 20kB 1.8MB/s eta 0:00:01\r\u001b[K     |█████████▎                      | 30kB 2.6MB/s eta 0:00:01\r\u001b[K     |████████████▍                   | 40kB 1.7MB/s eta 0:00:01\r\u001b[K     |███████████████▌                | 51kB 2.1MB/s eta 0:00:01\r\u001b[K     |██████████████████▋             | 61kB 2.5MB/s eta 0:00:01\r\u001b[K     |█████████████████████▊          | 71kB 2.9MB/s eta 0:00:01\r\u001b[K     |████████████████████████▊       | 81kB 3.3MB/s eta 0:00:01\r\u001b[K     |███████████████████████████▉    | 92kB 3.7MB/s eta 0:00:01\r\u001b[K     |███████████████████████████████ | 102kB 2.8MB/s eta 0:00:01\r\u001b[K     |████████████████████████████████| 112kB 2.8MB/s \n",
            "\u001b[?25hRequirement already satisfied: numpy>=1.9.0 in /usr/local/lib/python3.6/dist-packages (from eli5) (1.17.5)\n",
            "Requirement already satisfied: six in /usr/local/lib/python3.6/dist-packages (from eli5) (1.12.0)\n",
            "Requirement already satisfied: attrs>16.0.0 in /usr/local/lib/python3.6/dist-packages (from eli5) (19.3.0)\n",
            "Requirement already satisfied: graphviz in /usr/local/lib/python3.6/dist-packages (from eli5) (0.10.1)\n",
            "Requirement already satisfied: jinja2 in /usr/local/lib/python3.6/dist-packages (from eli5) (2.11.1)\n",
            "Requirement already satisfied: scikit-learn>=0.18 in /usr/local/lib/python3.6/dist-packages (from eli5) (0.22.1)\n",
            "Requirement already satisfied: tabulate>=0.7.7 in /usr/local/lib/python3.6/dist-packages (from eli5) (0.8.6)\n",
            "Requirement already satisfied: scipy in /usr/local/lib/python3.6/dist-packages (from eli5) (1.4.1)\n",
            "Requirement already satisfied: MarkupSafe>=0.23 in /usr/local/lib/python3.6/dist-packages (from jinja2->eli5) (1.1.1)\n",
            "Requirement already satisfied: joblib>=0.11 in /usr/local/lib/python3.6/dist-packages (from scikit-learn>=0.18->eli5) (0.14.1)\n",
            "Installing collected packages: eli5\n",
            "Successfully installed eli5-0.10.1\n"
          ],
          "name": "stdout"
        }
      ]
    },
    {
      "cell_type": "code",
      "metadata": {
        "id": "6j4bEP5HeO5N",
        "colab_type": "code",
        "colab": {}
      },
      "source": [
        "import pandas as pd\n",
        "import numpy as np\n",
        "from sklearn.tree import DecisionTreeRegressor\n",
        "from sklearn.ensemble import RandomForestRegressor\n",
        "\n",
        "from sklearn.metrics import mean_absolute_error\n",
        "from sklearn.model_selection import cross_val_score\n",
        "\n",
        "import eli5\n",
        "from eli5.sklearn import PermutationImportance\n",
        "\n",
        "from ast import literal_eval\n",
        "from tqdm import tqdm_notebook"
      ],
      "execution_count": 0,
      "outputs": []
    },
    {
      "cell_type": "code",
      "metadata": {
        "id": "WWvwj-cfe2RG",
        "colab_type": "code",
        "colab": {
          "base_uri": "https://localhost:8080/",
          "height": 34
        },
        "outputId": "8b0f5873-907d-4f3c-9745-287d36d1bd2e"
      },
      "source": [
        "cd \"/content/drive/My Drive/Colab Notebooks\""
      ],
      "execution_count": 3,
      "outputs": [
        {
          "output_type": "stream",
          "text": [
            "/content/drive/My Drive/Colab Notebooks\n"
          ],
          "name": "stdout"
        }
      ]
    },
    {
      "cell_type": "code",
      "metadata": {
        "id": "iG5j-w_me6RZ",
        "colab_type": "code",
        "colab": {
          "base_uri": "https://localhost:8080/",
          "height": 34
        },
        "outputId": "8bced454-472b-43e6-9b76-6c5b1d34a64a"
      },
      "source": [
        "ls"
      ],
      "execution_count": 4,
      "outputs": [
        {
          "output_type": "stream",
          "text": [
            "ColabDriveGithub.ipynb  \u001b[0m\u001b[01;34mdata\u001b[0m/  \u001b[01;34mdataworkshop_matrix\u001b[0m/  Matrix_day5.ipynb\n"
          ],
          "name": "stdout"
        }
      ]
    },
    {
      "cell_type": "code",
      "metadata": {
        "id": "na8RgRKfe7D_",
        "colab_type": "code",
        "colab": {
          "base_uri": "https://localhost:8080/",
          "height": 34
        },
        "outputId": "631d4608-694c-4223-df61-84890d083c0f"
      },
      "source": [
        "ls data"
      ],
      "execution_count": 5,
      "outputs": [
        {
          "output_type": "stream",
          "text": [
            "men_shoes.csv\n"
          ],
          "name": "stdout"
        }
      ]
    },
    {
      "cell_type": "code",
      "metadata": {
        "id": "0fN1w6rJe-fT",
        "colab_type": "code",
        "colab": {}
      },
      "source": [
        "df = pd.read_csv('data/men_shoes.csv', low_memory=False)"
      ],
      "execution_count": 0,
      "outputs": []
    },
    {
      "cell_type": "code",
      "metadata": {
        "id": "zLE4sxGzfKTc",
        "colab_type": "code",
        "colab": {}
      },
      "source": [
        "def run_model(feature, model = DecisionTreeRegressor(max_depth=5)):\n",
        "  X = df[ feature ].values\n",
        "  y = df['prices_amountmin'].values\n",
        "\n",
        "  model = DecisionTreeRegressor(max_depth=5)\n",
        "\n",
        "  scores = cross_val_score(model, X, y, scoring='neg_mean_absolute_error')\n",
        "  return np.mean(scores), np.std(scores)"
      ],
      "execution_count": 0,
      "outputs": []
    },
    {
      "cell_type": "code",
      "metadata": {
        "id": "39D0FFX2fhxT",
        "colab_type": "code",
        "colab": {
          "base_uri": "https://localhost:8080/",
          "height": 221
        },
        "outputId": "5dddfd01-6b87-4075-c982-c07f4c079afd"
      },
      "source": [
        "df.columns"
      ],
      "execution_count": 8,
      "outputs": [
        {
          "output_type": "execute_result",
          "data": {
            "text/plain": [
              "Index(['id', 'asins', 'brand', 'categories', 'colors', 'count', 'dateadded',\n",
              "       'dateupdated', 'descriptions', 'dimension', 'ean', 'features',\n",
              "       'flavors', 'imageurls', 'isbn', 'keys', 'manufacturer',\n",
              "       'manufacturernumber', 'merchants', 'name', 'prices_amountmin',\n",
              "       'prices_amountmax', 'prices_availability', 'prices_color',\n",
              "       'prices_condition', 'prices_count', 'prices_currency',\n",
              "       'prices_dateadded', 'prices_dateseen', 'prices_flavor', 'prices_issale',\n",
              "       'prices_merchant', 'prices_offer', 'prices_returnpolicy',\n",
              "       'prices_shipping', 'prices_size', 'prices_source', 'prices_sourceurls',\n",
              "       'prices_warranty', 'quantities', 'reviews', 'sizes', 'skus',\n",
              "       'sourceurls', 'upc', 'vin', 'websiteids', 'weight'],\n",
              "      dtype='object')"
            ]
          },
          "metadata": {
            "tags": []
          },
          "execution_count": 8
        }
      ]
    },
    {
      "cell_type": "code",
      "metadata": {
        "id": "4ip9WWH0fnhq",
        "colab_type": "code",
        "colab": {
          "base_uri": "https://localhost:8080/",
          "height": 34
        },
        "outputId": "925d03de-169f-49cf-fa50-15ebab797ee0"
      },
      "source": [
        "df['brand_cat'] = df['brand'].map(lambda x: str(x).lower()).factorize()[0]\n",
        "run_model(['brand_cat'])"
      ],
      "execution_count": 19,
      "outputs": [
        {
          "output_type": "execute_result",
          "data": {
            "text/plain": [
              "(-58.133398968282776, 4.206122611474276)"
            ]
          },
          "metadata": {
            "tags": []
          },
          "execution_count": 19
        }
      ]
    },
    {
      "cell_type": "code",
      "metadata": {
        "id": "1Un6OaCufwFS",
        "colab_type": "code",
        "colab": {}
      },
      "source": [
        "model = RandomForestRegressor(max_depth=5, n_estimators=100, random_state=0)"
      ],
      "execution_count": 0,
      "outputs": []
    },
    {
      "cell_type": "code",
      "metadata": {
        "id": "8doZo_dugKbD",
        "colab_type": "code",
        "colab": {
          "base_uri": "https://localhost:8080/",
          "height": 34
        },
        "outputId": "f0710400-0088-4c3a-8f12-2d57e41a1b6e"
      },
      "source": [
        "run_model(['brand_cat'], model)"
      ],
      "execution_count": 21,
      "outputs": [
        {
          "output_type": "execute_result",
          "data": {
            "text/plain": [
              "(-58.133398968282776, 4.206122611474276)"
            ]
          },
          "metadata": {
            "tags": []
          },
          "execution_count": 21
        }
      ]
    },
    {
      "cell_type": "code",
      "metadata": {
        "id": "XajnbQYngZQP",
        "colab_type": "code",
        "colab": {
          "base_uri": "https://localhost:8080/",
          "height": 513
        },
        "outputId": "281f2b34-786c-4565-e6d8-6cbb07dd32d3"
      },
      "source": [
        " # feature-engineering = getting to know your data to be able to train them better\n",
        " df.head()"
      ],
      "execution_count": 18,
      "outputs": [
        {
          "output_type": "execute_result",
          "data": {
            "text/html": [
              "<div>\n",
              "<style scoped>\n",
              "    .dataframe tbody tr th:only-of-type {\n",
              "        vertical-align: middle;\n",
              "    }\n",
              "\n",
              "    .dataframe tbody tr th {\n",
              "        vertical-align: top;\n",
              "    }\n",
              "\n",
              "    .dataframe thead th {\n",
              "        text-align: right;\n",
              "    }\n",
              "</style>\n",
              "<table border=\"1\" class=\"dataframe\">\n",
              "  <thead>\n",
              "    <tr style=\"text-align: right;\">\n",
              "      <th></th>\n",
              "      <th>id</th>\n",
              "      <th>asins</th>\n",
              "      <th>brand</th>\n",
              "      <th>categories</th>\n",
              "      <th>colors</th>\n",
              "      <th>count</th>\n",
              "      <th>dateadded</th>\n",
              "      <th>dateupdated</th>\n",
              "      <th>descriptions</th>\n",
              "      <th>dimension</th>\n",
              "      <th>ean</th>\n",
              "      <th>features</th>\n",
              "      <th>flavors</th>\n",
              "      <th>imageurls</th>\n",
              "      <th>isbn</th>\n",
              "      <th>keys</th>\n",
              "      <th>manufacturer</th>\n",
              "      <th>manufacturernumber</th>\n",
              "      <th>merchants</th>\n",
              "      <th>name</th>\n",
              "      <th>prices_amountmin</th>\n",
              "      <th>prices_amountmax</th>\n",
              "      <th>prices_availability</th>\n",
              "      <th>prices_color</th>\n",
              "      <th>prices_condition</th>\n",
              "      <th>prices_count</th>\n",
              "      <th>prices_currency</th>\n",
              "      <th>prices_dateadded</th>\n",
              "      <th>prices_dateseen</th>\n",
              "      <th>prices_flavor</th>\n",
              "      <th>prices_issale</th>\n",
              "      <th>prices_merchant</th>\n",
              "      <th>prices_offer</th>\n",
              "      <th>prices_returnpolicy</th>\n",
              "      <th>prices_shipping</th>\n",
              "      <th>prices_size</th>\n",
              "      <th>prices_source</th>\n",
              "      <th>prices_sourceurls</th>\n",
              "      <th>prices_warranty</th>\n",
              "      <th>quantities</th>\n",
              "      <th>reviews</th>\n",
              "      <th>sizes</th>\n",
              "      <th>skus</th>\n",
              "      <th>sourceurls</th>\n",
              "      <th>upc</th>\n",
              "      <th>vin</th>\n",
              "      <th>websiteids</th>\n",
              "      <th>weight</th>\n",
              "      <th>brand_cat</th>\n",
              "    </tr>\n",
              "  </thead>\n",
              "  <tbody>\n",
              "    <tr>\n",
              "      <th>0</th>\n",
              "      <td>AVpfHrJ6ilAPnD_xVXOI</td>\n",
              "      <td>NaN</td>\n",
              "      <td>Josmo</td>\n",
              "      <td>Clothing,Shoes,Men's Shoes,All Men's Shoes</td>\n",
              "      <td>NaN</td>\n",
              "      <td>NaN</td>\n",
              "      <td>2016-11-07T00:45:12Z</td>\n",
              "      <td>2016-11-07T00:45:12Z</td>\n",
              "      <td>[{\"dateSeen\":[\"2016-11-07T00:45:12Z\"],\"sourceU...</td>\n",
              "      <td>NaN</td>\n",
              "      <td>6.993020e+11</td>\n",
              "      <td>[{\"key\":\"Gender\",\"value\":[\"Men\"]},{\"key\":\"Shoe...</td>\n",
              "      <td>NaN</td>\n",
              "      <td>https://i5.walmartimages.com/asr/13ac3d61-003c...</td>\n",
              "      <td>NaN</td>\n",
              "      <td>josmo/8190wnavy75,699302044036,0699302044036</td>\n",
              "      <td>NaN</td>\n",
              "      <td>8190-W-NAVY-7.5</td>\n",
              "      <td>[{\"dateSeen\":[\"2016-11-07T00:45:12Z\"],\"name\":\"...</td>\n",
              "      <td>Josmo 8190 Plain Infant Walking Shoes, Navy - ...</td>\n",
              "      <td>39.89</td>\n",
              "      <td>39.89</td>\n",
              "      <td>NaN</td>\n",
              "      <td>NaN</td>\n",
              "      <td>NaN</td>\n",
              "      <td>NaN</td>\n",
              "      <td>USD</td>\n",
              "      <td>2016-11-07T00:45:12Z</td>\n",
              "      <td>2016-11-05T00:00:00Z</td>\n",
              "      <td>NaN</td>\n",
              "      <td>True</td>\n",
              "      <td>NaN</td>\n",
              "      <td>REDUCED USD 12.10</td>\n",
              "      <td>NaN</td>\n",
              "      <td>NaN</td>\n",
              "      <td>NaN</td>\n",
              "      <td>NaN</td>\n",
              "      <td>https://www.walmart.com/ip/Josmo-8190-Plain-In...</td>\n",
              "      <td>NaN</td>\n",
              "      <td>NaN</td>\n",
              "      <td>NaN</td>\n",
              "      <td>NaN</td>\n",
              "      <td>NaN</td>\n",
              "      <td>https://www.walmart.com/ip/Josmo-8190-Plain-In...</td>\n",
              "      <td>6.993020e+11</td>\n",
              "      <td>NaN</td>\n",
              "      <td>NaN</td>\n",
              "      <td>NaN</td>\n",
              "      <td>0</td>\n",
              "    </tr>\n",
              "    <tr>\n",
              "      <th>1</th>\n",
              "      <td>AVpfHrJ6ilAPnD_xVXOI</td>\n",
              "      <td>NaN</td>\n",
              "      <td>Josmo</td>\n",
              "      <td>Clothing,Shoes,Men's Shoes,All Men's Shoes</td>\n",
              "      <td>NaN</td>\n",
              "      <td>NaN</td>\n",
              "      <td>2016-11-07T00:45:12Z</td>\n",
              "      <td>2016-11-07T00:45:12Z</td>\n",
              "      <td>[{\"dateSeen\":[\"2016-11-07T00:45:12Z\"],\"sourceU...</td>\n",
              "      <td>NaN</td>\n",
              "      <td>6.993020e+11</td>\n",
              "      <td>[{\"key\":\"Gender\",\"value\":[\"Men\"]},{\"key\":\"Shoe...</td>\n",
              "      <td>NaN</td>\n",
              "      <td>https://i5.walmartimages.com/asr/13ac3d61-003c...</td>\n",
              "      <td>NaN</td>\n",
              "      <td>josmo/8190wnavy75,699302044036,0699302044036</td>\n",
              "      <td>NaN</td>\n",
              "      <td>8190-W-NAVY-7.5</td>\n",
              "      <td>[{\"dateSeen\":[\"2016-11-07T00:45:12Z\"],\"name\":\"...</td>\n",
              "      <td>Josmo 8190 Plain Infant Walking Shoes, Navy - ...</td>\n",
              "      <td>51.99</td>\n",
              "      <td>51.99</td>\n",
              "      <td>NaN</td>\n",
              "      <td>NaN</td>\n",
              "      <td>new</td>\n",
              "      <td>NaN</td>\n",
              "      <td>USD</td>\n",
              "      <td>2016-11-07T00:45:12Z</td>\n",
              "      <td>2016-11-05T00:00:00Z</td>\n",
              "      <td>NaN</td>\n",
              "      <td>False</td>\n",
              "      <td>UnbeatableSale - Walmart.com</td>\n",
              "      <td>REDUCED USD 12.10</td>\n",
              "      <td>NaN</td>\n",
              "      <td>NaN</td>\n",
              "      <td>NaN</td>\n",
              "      <td>NaN</td>\n",
              "      <td>https://www.walmart.com/ip/Josmo-8190-Plain-In...</td>\n",
              "      <td>NaN</td>\n",
              "      <td>NaN</td>\n",
              "      <td>NaN</td>\n",
              "      <td>NaN</td>\n",
              "      <td>NaN</td>\n",
              "      <td>https://www.walmart.com/ip/Josmo-8190-Plain-In...</td>\n",
              "      <td>6.993020e+11</td>\n",
              "      <td>NaN</td>\n",
              "      <td>NaN</td>\n",
              "      <td>NaN</td>\n",
              "      <td>0</td>\n",
              "    </tr>\n",
              "    <tr>\n",
              "      <th>2</th>\n",
              "      <td>AVpfHsWP1cnluZ0-eVZ7</td>\n",
              "      <td>NaN</td>\n",
              "      <td>SERVUS BY HONEYWELL</td>\n",
              "      <td>All Men's Shoes,Shoes,Men's Shoes,Clothing</td>\n",
              "      <td>NaN</td>\n",
              "      <td>NaN</td>\n",
              "      <td>2016-06-14T04:29:57Z</td>\n",
              "      <td>2016-07-09T20:26:48Z</td>\n",
              "      <td>[{\"dateSeen\":[\"2016-07-09T20:26:48Z\"],\"sourceU...</td>\n",
              "      <td>NaN</td>\n",
              "      <td>NaN</td>\n",
              "      <td>[{\"key\":\"Gender\",\"value\":[\"Men\"]},{\"key\":\"Colo...</td>\n",
              "      <td>NaN</td>\n",
              "      <td>http://i5.walmartimages.com/dfw/dce07b8c-5844/...</td>\n",
              "      <td>NaN</td>\n",
              "      <td>servusbyhoneywell/zsr101blmlg</td>\n",
              "      <td>NaN</td>\n",
              "      <td>ZSR101BLMLG</td>\n",
              "      <td>[{\"dateSeen\":[\"2016-06-14T04:29:57Z\"],\"name\":\"...</td>\n",
              "      <td>Servus By Honeywell Shoe Studs Zsr101blmlg</td>\n",
              "      <td>40.02</td>\n",
              "      <td>40.02</td>\n",
              "      <td>NaN</td>\n",
              "      <td>NaN</td>\n",
              "      <td>new</td>\n",
              "      <td>NaN</td>\n",
              "      <td>USD</td>\n",
              "      <td>2016-06-14T04:29:57Z</td>\n",
              "      <td>2016-03-08T00:00:00Z</td>\n",
              "      <td>NaN</td>\n",
              "      <td>False</td>\n",
              "      <td>SIM Supply Inc - Walmart.com</td>\n",
              "      <td>NaN</td>\n",
              "      <td>NaN</td>\n",
              "      <td>NaN</td>\n",
              "      <td>NaN</td>\n",
              "      <td>NaN</td>\n",
              "      <td>http://www.walmart.com/ip/Studs-Shoe-Large-Pr-...</td>\n",
              "      <td>NaN</td>\n",
              "      <td>NaN</td>\n",
              "      <td>NaN</td>\n",
              "      <td>NaN</td>\n",
              "      <td>NaN</td>\n",
              "      <td>http://www.walmart.com/ip/Studs-Shoe-Large-Pr-...</td>\n",
              "      <td>NaN</td>\n",
              "      <td>NaN</td>\n",
              "      <td>NaN</td>\n",
              "      <td>NaN</td>\n",
              "      <td>1</td>\n",
              "    </tr>\n",
              "    <tr>\n",
              "      <th>3</th>\n",
              "      <td>AVpfHsWP1cnluZ0-eVZ7</td>\n",
              "      <td>NaN</td>\n",
              "      <td>SERVUS BY HONEYWELL</td>\n",
              "      <td>All Men's Shoes,Shoes,Men's Shoes,Clothing</td>\n",
              "      <td>NaN</td>\n",
              "      <td>NaN</td>\n",
              "      <td>2016-06-14T04:29:57Z</td>\n",
              "      <td>2016-07-09T20:26:48Z</td>\n",
              "      <td>[{\"dateSeen\":[\"2016-07-09T20:26:48Z\"],\"sourceU...</td>\n",
              "      <td>NaN</td>\n",
              "      <td>NaN</td>\n",
              "      <td>[{\"key\":\"Gender\",\"value\":[\"Men\"]},{\"key\":\"Colo...</td>\n",
              "      <td>NaN</td>\n",
              "      <td>http://i5.walmartimages.com/dfw/dce07b8c-5844/...</td>\n",
              "      <td>NaN</td>\n",
              "      <td>servusbyhoneywell/zsr101blmlg</td>\n",
              "      <td>NaN</td>\n",
              "      <td>ZSR101BLMLG</td>\n",
              "      <td>[{\"dateSeen\":[\"2016-06-14T04:29:57Z\"],\"name\":\"...</td>\n",
              "      <td>Servus By Honeywell Shoe Studs Zsr101blmlg</td>\n",
              "      <td>50.31</td>\n",
              "      <td>50.31</td>\n",
              "      <td>NaN</td>\n",
              "      <td>NaN</td>\n",
              "      <td>new</td>\n",
              "      <td>NaN</td>\n",
              "      <td>USD</td>\n",
              "      <td>2016-06-14T04:29:57Z</td>\n",
              "      <td>2015-11-30T00:00:00Z</td>\n",
              "      <td>NaN</td>\n",
              "      <td>False</td>\n",
              "      <td>SIM Supply Inc - Walmart.com</td>\n",
              "      <td>NaN</td>\n",
              "      <td>NaN</td>\n",
              "      <td>NaN</td>\n",
              "      <td>NaN</td>\n",
              "      <td>NaN</td>\n",
              "      <td>http://www.walmart.com/ip/Studs-Shoe-Large-Pr-...</td>\n",
              "      <td>NaN</td>\n",
              "      <td>NaN</td>\n",
              "      <td>NaN</td>\n",
              "      <td>NaN</td>\n",
              "      <td>NaN</td>\n",
              "      <td>http://www.walmart.com/ip/Studs-Shoe-Large-Pr-...</td>\n",
              "      <td>NaN</td>\n",
              "      <td>NaN</td>\n",
              "      <td>NaN</td>\n",
              "      <td>NaN</td>\n",
              "      <td>1</td>\n",
              "    </tr>\n",
              "    <tr>\n",
              "      <th>4</th>\n",
              "      <td>AVpfHsWP1cnluZ0-eVZ7</td>\n",
              "      <td>NaN</td>\n",
              "      <td>SERVUS BY HONEYWELL</td>\n",
              "      <td>All Men's Shoes,Shoes,Men's Shoes,Clothing</td>\n",
              "      <td>NaN</td>\n",
              "      <td>NaN</td>\n",
              "      <td>2016-06-14T04:29:57Z</td>\n",
              "      <td>2016-07-09T20:26:48Z</td>\n",
              "      <td>[{\"dateSeen\":[\"2016-07-09T20:26:48Z\"],\"sourceU...</td>\n",
              "      <td>NaN</td>\n",
              "      <td>NaN</td>\n",
              "      <td>[{\"key\":\"Gender\",\"value\":[\"Men\"]},{\"key\":\"Colo...</td>\n",
              "      <td>NaN</td>\n",
              "      <td>http://i5.walmartimages.com/dfw/dce07b8c-5844/...</td>\n",
              "      <td>NaN</td>\n",
              "      <td>servusbyhoneywell/zsr101blmlg</td>\n",
              "      <td>NaN</td>\n",
              "      <td>ZSR101BLMLG</td>\n",
              "      <td>[{\"dateSeen\":[\"2016-06-14T04:29:57Z\"],\"name\":\"...</td>\n",
              "      <td>Servus By Honeywell Shoe Studs Zsr101blmlg</td>\n",
              "      <td>46.26</td>\n",
              "      <td>46.26</td>\n",
              "      <td>NaN</td>\n",
              "      <td>NaN</td>\n",
              "      <td>new</td>\n",
              "      <td>NaN</td>\n",
              "      <td>USD</td>\n",
              "      <td>2016-06-14T04:29:57Z</td>\n",
              "      <td>2016-04-29T00:00:00Z</td>\n",
              "      <td>NaN</td>\n",
              "      <td>False</td>\n",
              "      <td>SIM Supply Inc - Walmart.com</td>\n",
              "      <td>NaN</td>\n",
              "      <td>NaN</td>\n",
              "      <td>NaN</td>\n",
              "      <td>NaN</td>\n",
              "      <td>NaN</td>\n",
              "      <td>http://www.walmart.com/ip/Studs-Shoe-Large-Pr-...</td>\n",
              "      <td>NaN</td>\n",
              "      <td>NaN</td>\n",
              "      <td>NaN</td>\n",
              "      <td>NaN</td>\n",
              "      <td>NaN</td>\n",
              "      <td>http://www.walmart.com/ip/Studs-Shoe-Large-Pr-...</td>\n",
              "      <td>NaN</td>\n",
              "      <td>NaN</td>\n",
              "      <td>NaN</td>\n",
              "      <td>NaN</td>\n",
              "      <td>1</td>\n",
              "    </tr>\n",
              "  </tbody>\n",
              "</table>\n",
              "</div>"
            ],
            "text/plain": [
              "                     id asins  ... weight brand_cat\n",
              "0  AVpfHrJ6ilAPnD_xVXOI   NaN  ...    NaN         0\n",
              "1  AVpfHrJ6ilAPnD_xVXOI   NaN  ...    NaN         0\n",
              "2  AVpfHsWP1cnluZ0-eVZ7   NaN  ...    NaN         1\n",
              "3  AVpfHsWP1cnluZ0-eVZ7   NaN  ...    NaN         1\n",
              "4  AVpfHsWP1cnluZ0-eVZ7   NaN  ...    NaN         1\n",
              "\n",
              "[5 rows x 49 columns]"
            ]
          },
          "metadata": {
            "tags": []
          },
          "execution_count": 18
        }
      ]
    },
    {
      "cell_type": "code",
      "metadata": {
        "id": "CUQdiPg0g97v",
        "colab_type": "code",
        "colab": {
          "base_uri": "https://localhost:8080/",
          "height": 139
        },
        "outputId": "683ac824-c829-4144-a360-11587da0c8f4"
      },
      "source": [
        "df.features.head().values"
      ],
      "execution_count": 22,
      "outputs": [
        {
          "output_type": "execute_result",
          "data": {
            "text/plain": [
              "array(['[{\"key\":\"Gender\",\"value\":[\"Men\"]},{\"key\":\"Shoe Size\",\"value\":[\"M\"]},{\"key\":\"Shoe Category\",\"value\":[\"Men\\'s Shoes\"]},{\"key\":\"Color\",\"value\":[\"Multicolor\"]},{\"key\":\"Manufacturer Part Number\",\"value\":[\"8190-W-NAVY-7.5\"]},{\"key\":\"Brand\",\"value\":[\"Josmo\"]}]',\n",
              "       '[{\"key\":\"Gender\",\"value\":[\"Men\"]},{\"key\":\"Shoe Size\",\"value\":[\"M\"]},{\"key\":\"Shoe Category\",\"value\":[\"Men\\'s Shoes\"]},{\"key\":\"Color\",\"value\":[\"Multicolor\"]},{\"key\":\"Manufacturer Part Number\",\"value\":[\"8190-W-NAVY-7.5\"]},{\"key\":\"Brand\",\"value\":[\"Josmo\"]}]',\n",
              "       '[{\"key\":\"Gender\",\"value\":[\"Men\"]},{\"key\":\"Color\",\"value\":[\"Black\"]},{\"key\":\"Shipping Weight (in pounds)\",\"value\":[\"0.45\"]},{\"key\":\"Condition\",\"value\":[\"New\"]},{\"key\":\"Brand\",\"value\":[\"SERVUS BY HONEYWELL\"]},{\"key\":\"manufacturer_part_number\",\"value\":[\"ZSR101BLMLG\"]}]',\n",
              "       '[{\"key\":\"Gender\",\"value\":[\"Men\"]},{\"key\":\"Color\",\"value\":[\"Black\"]},{\"key\":\"Shipping Weight (in pounds)\",\"value\":[\"0.45\"]},{\"key\":\"Condition\",\"value\":[\"New\"]},{\"key\":\"Brand\",\"value\":[\"SERVUS BY HONEYWELL\"]},{\"key\":\"manufacturer_part_number\",\"value\":[\"ZSR101BLMLG\"]}]',\n",
              "       '[{\"key\":\"Gender\",\"value\":[\"Men\"]},{\"key\":\"Color\",\"value\":[\"Black\"]},{\"key\":\"Shipping Weight (in pounds)\",\"value\":[\"0.45\"]},{\"key\":\"Condition\",\"value\":[\"New\"]},{\"key\":\"Brand\",\"value\":[\"SERVUS BY HONEYWELL\"]},{\"key\":\"manufacturer_part_number\",\"value\":[\"ZSR101BLMLG\"]}]'],\n",
              "      dtype=object)"
            ]
          },
          "metadata": {
            "tags": []
          },
          "execution_count": 22
        }
      ]
    },
    {
      "cell_type": "code",
      "metadata": {
        "id": "xc_-083ohtXd",
        "colab_type": "code",
        "colab": {}
      },
      "source": [
        "str_dict = '[{\"key\":\"Gender\",\"value\":[\"Men\"]},{\"key\":\"Shoe Size\",\"value\":[\"M\"]},{\"key\":\"Shoe Category\",\"value\":[\"Men\\'s Shoes\"]},{\"key\":\"Color\",\"value\":[\"Multicolor\"]},{\"key\":\"Manufacturer Part Number\",\"value\":[\"8190-W-NAVY-7.5\"]},{\"key\":\"Brand\",\"value\":[\"Josmo\"]}]'"
      ],
      "execution_count": 0,
      "outputs": []
    },
    {
      "cell_type": "code",
      "metadata": {
        "id": "aZh6yNQqoe2m",
        "colab_type": "code",
        "colab": {
          "base_uri": "https://localhost:8080/",
          "height": 119
        },
        "outputId": "979150dc-8f9b-4267-db67-4e879a0d3ef2"
      },
      "source": [
        "literal_eval(str_dict)"
      ],
      "execution_count": 25,
      "outputs": [
        {
          "output_type": "execute_result",
          "data": {
            "text/plain": [
              "[{'key': 'Gender', 'value': ['Men']},\n",
              " {'key': 'Shoe Size', 'value': ['M']},\n",
              " {'key': 'Shoe Category', 'value': [\"Men's Shoes\"]},\n",
              " {'key': 'Color', 'value': ['Multicolor']},\n",
              " {'key': 'Manufacturer Part Number', 'value': ['8190-W-NAVY-7.5']},\n",
              " {'key': 'Brand', 'value': ['Josmo']}]"
            ]
          },
          "metadata": {
            "tags": []
          },
          "execution_count": 25
        }
      ]
    },
    {
      "cell_type": "code",
      "metadata": {
        "id": "WDVLtNUBohMp",
        "colab_type": "code",
        "colab": {}
      },
      "source": [
        "def parse_features(x):\n",
        "  output_dict = {}\n",
        "  if str(x) == 'nan': return output_dict\n",
        "\n",
        "  features = literal_eval(x.replace('\\\\\"', '\"'))\n",
        "  for item in features:\n",
        "    key = item['key'].lower().strip()\n",
        "    value = item['value'][0].lower().strip()\n",
        "\n",
        "    output_dict[key] = value\n",
        "\n",
        "  return output_dict\n",
        "\n",
        "df['features_parsed'] = df['features'].map(parse_features)"
      ],
      "execution_count": 0,
      "outputs": []
    },
    {
      "cell_type": "code",
      "metadata": {
        "id": "X-Ezg9Jfpi8d",
        "colab_type": "code",
        "colab": {
          "base_uri": "https://localhost:8080/",
          "height": 119
        },
        "outputId": "5c237757-8b79-472b-e3b2-573be3e146c6"
      },
      "source": [
        "df['features_parsed'].head().values"
      ],
      "execution_count": 33,
      "outputs": [
        {
          "output_type": "execute_result",
          "data": {
            "text/plain": [
              "array([{'gender': 'men', 'shoe size': 'm', 'shoe category': \"men's shoes\", 'color': 'multicolor', 'manufacturer part number': '8190-w-navy-7.5', 'brand': 'josmo'},\n",
              "       {'gender': 'men', 'shoe size': 'm', 'shoe category': \"men's shoes\", 'color': 'multicolor', 'manufacturer part number': '8190-w-navy-7.5', 'brand': 'josmo'},\n",
              "       {'gender': 'men', 'color': 'black', 'shipping weight (in pounds)': '0.45', 'condition': 'new', 'brand': 'servus by honeywell', 'manufacturer_part_number': 'zsr101blmlg'},\n",
              "       {'gender': 'men', 'color': 'black', 'shipping weight (in pounds)': '0.45', 'condition': 'new', 'brand': 'servus by honeywell', 'manufacturer_part_number': 'zsr101blmlg'},\n",
              "       {'gender': 'men', 'color': 'black', 'shipping weight (in pounds)': '0.45', 'condition': 'new', 'brand': 'servus by honeywell', 'manufacturer_part_number': 'zsr101blmlg'}],\n",
              "      dtype=object)"
            ]
          },
          "metadata": {
            "tags": []
          },
          "execution_count": 33
        }
      ]
    },
    {
      "cell_type": "code",
      "metadata": {
        "id": "UkhTnKJyqB0C",
        "colab_type": "code",
        "colab": {
          "base_uri": "https://localhost:8080/",
          "height": 34
        },
        "outputId": "b2a9b75f-f343-4018-bd38-4030f19b8c24"
      },
      "source": [
        "keys = set()\n",
        "\n",
        "df['features_parsed'].map( lambda x: keys.update(x.keys()) )\n",
        "\n",
        "len(ke)"
      ],
      "execution_count": 34,
      "outputs": [
        {
          "output_type": "execute_result",
          "data": {
            "text/plain": [
              "476"
            ]
          },
          "metadata": {
            "tags": []
          },
          "execution_count": 34
        }
      ]
    },
    {
      "cell_type": "code",
      "metadata": {
        "id": "hO-wUgYexWmm",
        "colab_type": "code",
        "colab": {
          "base_uri": "https://localhost:8080/",
          "height": 66,
          "referenced_widgets": [
            "c82f02e28ba14e058601a5a637aa8714",
            "5ab7f46eba464889ac9079e9ae442473",
            "dad16ad5b26948a1988507e9a876645f",
            "10f06aa2f75246939dc668b790a96f4c",
            "5e57a2979c4e4ea5b0a1c755a2c688cc",
            "f489dfe1dab148e5a0e314927f06af0c",
            "11591bb690ef4f6bbb4851ae5ac5c275",
            "024c171058894809b15e63eaaa0fb048"
          ]
        },
        "outputId": "702e927c-c086-437f-feb1-5b7388265d4b"
      },
      "source": [
        "def get_name_feat(key):\n",
        "  return 'feat_' + key\n",
        "\n",
        "\n",
        "for key in tqdm_notebook(keys):\n",
        "  df[get_name_feat(key)] = df.features_parsed.map( lambda feats: feats[key] if key in feats else np.nan )\n"
      ],
      "execution_count": 39,
      "outputs": [
        {
          "output_type": "display_data",
          "data": {
            "application/vnd.jupyter.widget-view+json": {
              "model_id": "c82f02e28ba14e058601a5a637aa8714",
              "version_minor": 0,
              "version_major": 2
            },
            "text/plain": [
              "HBox(children=(IntProgress(value=0, max=476), HTML(value='')))"
            ]
          },
          "metadata": {
            "tags": []
          }
        },
        {
          "output_type": "stream",
          "text": [
            "\n"
          ],
          "name": "stdout"
        }
      ]
    },
    {
      "cell_type": "code",
      "metadata": {
        "id": "dq8vDVgEybCP",
        "colab_type": "code",
        "colab": {
          "base_uri": "https://localhost:8080/",
          "height": 54
        },
        "outputId": "430532a0-e8e9-4ff3-f6e7-0c3925aa34d9"
      },
      "source": [
        "print(keys)"
      ],
      "execution_count": 40,
      "outputs": [
        {
          "output_type": "stream",
          "text": [
            "{'temple size:', 'material composition', 'part number', 'item color', 'model no.', 'weather resistant', 'toe type', 'rx-able', 'fuel type', 'is dark sky-compliant', 'finish', 'watch style', 'case tone', 'fits brands', 'thick, warm, cozy', 'sole', 'release', 'technician', 'lens technology', 'smart watch', 'parts', 'manufacturer', 'movement', 'package', 'comfort technology', 'isbn', 'garment care', 'alarm', 'clasp type', 'has adaptive lenses', 'sku number', 'shoe width', 'front', 'uv protection', 'case finish', 'subdial', 'auto', 'safety apparel product type', 'seller inventory number', 'special features', 'ground', 'shipping weight (in pounds)', 'color mapping', 'atpv arc rating', 'fabrication', 'sport', 'hood', 'location - city/state', 'country//region of manufacture', 'band width', 'picture', 'country/ organization', 'clothing type', 'country/region of manufacture', 'used with equipment type', 'battery type', 'character', 'item weight', 'materials', 'packageweight', 'design', 'jewelry setting', 'crystal', 'shoe category', 'year made', 'case back', 'protection', 'number of heat settings', 'measurements:', 'waterproof', 'location - country', 'polarized?', 'power reserve', 'full product manual', 'chest', 'autographed', 'amazonbestsellersrank', 'count', 'temple length', 'charge time (minutes)', 'colour', 'power type', 'reinforced knee', 'is recyclable', 'resolution megapixels', 'bag size range', 'diamond color', 'clothing category', 'age', 'dial markers', 'shoe height', 'has expiration', 'size/dimensions', 'licensed', 'shoe size', 'series name', 'color/finish family', 'bracelet style', 'shade', 'eye protection type', 'auto shut-off', 'style', 'domestic shipping', 'country of origin', 'country of origin assembly:', 'length', 'frame style', 'is waterproof', 'enhanced visibility (reflective)', 'quantity in set', 'item width', 'fabric care', 'athlete', 'chain/necklace length (in.)', 'wheel type', 'style code', 'catalog', 'metal color', 'display technology', 'polarised', 'eyewear frame style', 'polarized lenses', 'insulated', 'inseam', 'sports league', 'label', 'material detail-1', 'dial material', 'season', 'box', 'lens type', 'what includes', 'product #', 'wash', 'display', 'black', 'country of origin - assembly', 'chain length', 'includes', 'band length (in.)', 'model number', 'mechanic', 'variant group id', 'international shipping?', 'number of wheels', 'heel height', 'vehicle type', 'date first available', 'sports team', 'designer', 'материал', 'band manufacturer', 'manufacturer_part_number', 'style name', 'product id', 'lining', 'height', 'clothing size', 'transactionid', 'features', 'occasion', 'closure', 'resolution', 'width', 'size', 'assembled product weight', 'date first available at amazon.co.uk', 'shipping to usa', 'global composite sports type', 'casual & dress shoe style', 'product name', 'frame color', 'hat style', 'contains batteries', 'purpose', 'material type', 'features & fastening', 'lens width', 'general warranty', 'szie', 'is energy star-certified', 'terrain', 'face shape', 'tactical', 'date', 'animal type', 'carats', 'very popular bag now a days', 'closure style', 'military style', 'boxed-product dimensions', 'type', 'free item', 'lens color', 'sku#', 'recommended location', 'kids backpacks', 'multi pack indicator', 'lens socket width', 'is water-resistant', 'year', 'designed for', 'fabric care instructions', 'mpn', 'cm', 'walmart no.', 'product type', 'batteries required', 'instrument', 'assembled in country of origin', 'ring size', 'fishing', 'era', 'net weight', 'labor', 'bridge', 'number of pockets', 'frame type', 'leg opening:', 'upper material', 'characteristics', 'airport friendly', 'handbag style', '100% adidas authentic', 'metal stamp', 'reinforced pockets', 'product in inches (l x w x h)', 'is lined', 'arm', 'euro size', 'sub type', 'nike product #', 'hooded', 'shipping weight', 'gold karat', 'fits most screen size', 'item weight unit of measure', 'footwear type', 'water-resistant', 'bed size', 'item style', 'fabric', 'case type', 'issued/ not-issued', 'genre', 'case diameter', 'foot arch', 'shoe fastening type', 'fabric type', 'lens tint', 'frame material:', 'removable hood', 'navy blue', 'bridge size:', 'shape', 'manufacturer part number', 'safety feature', 'number of compartments', 'metal type', 'light weight', 'heat zones', 'colour code', 'sku', 'item package quantity', 'hardsided or softsided', 'international shipping', 'age range', 'hunting', 'style #', 'material', 'manufacturer number', 'to fit', 'lens', 'style:', 'fits over eyeglasses', 'age gender group', 'neckline', 'pronation', 'weight', 'dimensions', 'age start', 'adjustable', 'pant style', 'sleeve length', 'casing', 'is polarized', 'frame depth', 'recommended use', 'high visibility (ansi compliant)', 'inv', 'cushioning', 'band material', 'band type', 'feature', 'primary shelf id', 'country of origin components:', 'target audience', 'hammer loop', 'primary color', 'capacity', 'number of batteries included', 'type 2', 'compatible devices', 'expandable', 'lining material', 'watch shape', 'main color', 'wheeled', 'lens color family', 'gender', 'wind resistant', 'assembled product dimensions (l x w x h)', 'motion control', 'attachment', 'batteries required?', 'authenticity', 'made in', 'fit:', 'brand', 'country of manufacturer', 'age segment', 'fits styles', 'vendor description', 'dial color', 'productgroup', 'gps', 'date first available at amazon.ca', 'sizebridge', 'fine or fashion', 'is wheeled', 'digital camera', 'shoe closure', 'ean', 'waist size', 'chronograph', 'item type', 'fit', 'item character', 'hairstyle', 'case material', 'pattern', 'overall material', 'place of origin', 'mirrored', 'sizearm', 'bezel', 'watch case shape', 'number of pieces', 'pattern or design', 'water resistant', 'construction', 'case type:', 'chain included', 'name', 'diameter', 'clothing product type', 'contains cubic zirconia', 'band color', 'looks best on these face shapes:', 'theme', 'fit to', 'polarized', 'type of sole', 'use', 'number of items', 'combined shipping', 'model', 'age end', 'watch band material', 'style number', 'frame shape', 'article', 'battery voltage', 'manufacturer sku', 'lens material', 'bridge/temple size:', 'fastener', 'watch power source', 'condition', 'fits model', 'batteries included?', 'safety features', 'retail price', 'best sellers rank', 'resizable', 'crown', 'spikes type', 'work shoes', 'bridge width', 'profession', 'compass', 'disclosures', 'conflict', 'fabric content', 'nickel free', 'chest size', 'insulation', 'jacket length', 'fits models', 'part type', 'guaranteed authentic', 'nike id', 'leather :', 'is orthopedic', 'weather-resistant', 'leather grade', 'country////region of manufacture', 'heart rate monitor', 'stone type', 'interior pockets', 'shirt size', 'frame material', 'has mercury', '����������������', 'accessory type', 'gemstone type', 'item spec attr - style (ebay)', 'has paper wood', 'leg', 'clothing size type', 'mpn#', 'diamond clarity', 'sock style', 'color family', 'origin of components', 'sock size', 'msrp', 'impact resistant', 'applicable', 'is portable', 'removable liner', 'country of manufacture', 'waist', 'golf shoe type', 'fastener type', 'sleeve style', 'elastic banded waist', 'charger included', 'necklace type', 'product dimensions', 'front style', 'eye size:', 'uv rating', 'ul safety listing', 'fabric material', 'country of origin - components', 'stylenumber', 'stock no.', 'sub style', 'flame resistant', 'light transmission (vlt)', 'case thickness', 'main colour', 'band length', 'protects against', 'stability', 'rise', 'age group', 'suitable for', 'cleaning, care & maintenance', 'adidas', 'audience', 'hands', 'is weather-resistant', 'video game platform', 'lens material:', 'contained battery type', 'outer material', 'machine washable', 'color', 'lined', 'ring style', 'certifications and listings', 'antiscratch lens coating', 'pocket', 'boot height'}\n"
          ],
          "name": "stdout"
        }
      ]
    },
    {
      "cell_type": "code",
      "metadata": {
        "id": "qvTQJhaNy9qx",
        "colab_type": "code",
        "colab": {
          "base_uri": "https://localhost:8080/",
          "height": 153
        },
        "outputId": "26356ff8-cbb9-4905-d12b-7da5a5f404d3"
      },
      "source": [
        "df.columns"
      ],
      "execution_count": 41,
      "outputs": [
        {
          "output_type": "execute_result",
          "data": {
            "text/plain": [
              "Index(['id', 'asins', 'brand', 'categories', 'colors', 'count', 'dateadded',\n",
              "       'dateupdated', 'descriptions', 'dimension',\n",
              "       ...\n",
              "       'feat_contained battery type', 'feat_outer material',\n",
              "       'feat_machine washable', 'feat_color', 'feat_lined', 'feat_ring style',\n",
              "       'feat_certifications and listings', 'feat_antiscratch lens coating',\n",
              "       'feat_pocket', 'feat_boot height'],\n",
              "      dtype='object', length=526)"
            ]
          },
          "metadata": {
            "tags": []
          },
          "execution_count": 41
        }
      ]
    },
    {
      "cell_type": "code",
      "metadata": {
        "id": "4NE9JEa7zLYo",
        "colab_type": "code",
        "colab": {
          "base_uri": "https://localhost:8080/",
          "height": 34
        },
        "outputId": "d1eb2d70-7b7d-40cc-a812-62b5b804892b"
      },
      "source": [
        "df[ False == df['feat_athlete'].isnull() ].shape[0] / df.shape[0] * 100"
      ],
      "execution_count": 45,
      "outputs": [
        {
          "output_type": "execute_result",
          "data": {
            "text/plain": [
              "0.0437636761487965"
            ]
          },
          "metadata": {
            "tags": []
          },
          "execution_count": 45
        }
      ]
    },
    {
      "cell_type": "code",
      "metadata": {
        "id": "fxyisv4_zUZY",
        "colab_type": "code",
        "colab": {}
      },
      "source": [
        "keys_stat = {}\n",
        "for key in keys:\n",
        "  keys_stat[key] = df[ False == df[get_name_feat(key)].isnull() ].shape[0] / df.shape[0] * 100"
      ],
      "execution_count": 0,
      "outputs": []
    },
    {
      "cell_type": "code",
      "metadata": {
        "id": "weftnM8mzqho",
        "colab_type": "code",
        "colab": {
          "base_uri": "https://localhost:8080/",
          "height": 1000
        },
        "outputId": "b602eca5-0885-469d-91c9-6248927284cc"
      },
      "source": [
        "keys_stat"
      ],
      "execution_count": 48,
      "outputs": [
        {
          "output_type": "execute_result",
          "data": {
            "text/plain": [
              "{'100% adidas authentic': 0.005470459518599562,\n",
              " 'accessory type': 0.1422319474835886,\n",
              " 'adidas': 0.005470459518599562,\n",
              " 'adjustable': 0.34463894967177244,\n",
              " 'age': 0.6400437636761488,\n",
              " 'age end': 0.4431072210065646,\n",
              " 'age gender group': 0.12582056892778995,\n",
              " 'age group': 27.64770240700219,\n",
              " 'age range': 0.5470459518599562,\n",
              " 'age segment': 0.1422319474835886,\n",
              " 'age start': 0.4431072210065646,\n",
              " 'airport friendly': 0.005470459518599562,\n",
              " 'alarm': 0.23522975929978115,\n",
              " 'amazonbestsellersrank': 0.06017505470459519,\n",
              " 'animal type': 0.005470459518599562,\n",
              " 'antiscratch lens coating': 0.005470459518599562,\n",
              " 'applicable': 0.02188183807439825,\n",
              " 'arm': 0.6236323851203501,\n",
              " 'article': 0.005470459518599562,\n",
              " 'assembled in country of origin': 2.199124726477024,\n",
              " 'assembled product dimensions (l x w x h)': 10.300875273522976,\n",
              " 'assembled product weight': 1.5536105032822756,\n",
              " 'athlete': 0.0437636761487965,\n",
              " 'atpv arc rating': 0.005470459518599562,\n",
              " 'attachment': 0.03282275711159737,\n",
              " 'audience': 0.23522975929978115,\n",
              " 'authenticity': 0.10940919037199125,\n",
              " 'auto': 0.005470459518599562,\n",
              " 'auto shut-off': 0.02188183807439825,\n",
              " 'autographed': 0.010940919037199124,\n",
              " 'bag size range': 0.016411378555798686,\n",
              " 'band color': 0.05470459518599562,\n",
              " 'band length': 0.26805251641137856,\n",
              " 'band length (in.)': 0.04923413566739607,\n",
              " 'band manufacturer': 0.005470459518599562,\n",
              " 'band material': 0.42669584245076586,\n",
              " 'band type': 0.04923413566739607,\n",
              " 'band width': 0.30087527352297594,\n",
              " 'batteries included?': 0.06017505470459519,\n",
              " 'batteries required': 0.05470459518599562,\n",
              " 'batteries required?': 0.02188183807439825,\n",
              " 'battery type': 1.6083150984682715,\n",
              " 'battery voltage': 0.02188183807439825,\n",
              " 'bed size': 0.005470459518599562,\n",
              " 'best sellers rank': 0.005470459518599562,\n",
              " 'bezel': 0.18599562363238512,\n",
              " 'black': 0.010940919037199124,\n",
              " 'boot height': 0.038293216630196934,\n",
              " 'box': 0.010940919037199124,\n",
              " 'boxed-product dimensions': 0.005470459518599562,\n",
              " 'bracelet style': 0.010940919037199124,\n",
              " 'brand': 48.62691466083151,\n",
              " 'bridge': 0.6236323851203501,\n",
              " 'bridge size:': 0.5142231947483589,\n",
              " 'bridge width': 0.09846827133479213,\n",
              " 'bridge/temple size:': 0.5142231947483589,\n",
              " 'capacity': 0.010940919037199124,\n",
              " 'carats': 0.010940919037199124,\n",
              " 'case back': 0.04923413566739607,\n",
              " 'case diameter': 0.4540481400437637,\n",
              " 'case finish': 0.016411378555798686,\n",
              " 'case material': 0.26805251641137856,\n",
              " 'case thickness': 0.30087527352297594,\n",
              " 'case tone': 0.016411378555798686,\n",
              " 'case type': 0.07658643326039387,\n",
              " 'case type:': 0.5142231947483589,\n",
              " 'casing': 0.016411378555798686,\n",
              " 'casual & dress shoe style': 12.910284463894966,\n",
              " 'catalog': 0.12582056892778995,\n",
              " 'certifications and listings': 0.04923413566739607,\n",
              " 'chain included': 0.010940919037199124,\n",
              " 'chain length': 0.02188183807439825,\n",
              " 'chain/necklace length (in.)': 0.010940919037199124,\n",
              " 'character': 0.5142231947483589,\n",
              " 'characteristics': 0.25711159737417943,\n",
              " 'charge time (minutes)': 0.02188183807439825,\n",
              " 'charger included': 0.02188183807439825,\n",
              " 'chest': 0.005470459518599562,\n",
              " 'chest size': 0.038293216630196934,\n",
              " 'chronograph': 0.41575492341356673,\n",
              " 'clasp type': 0.010940919037199124,\n",
              " 'cleaning, care & maintenance': 0.005470459518599562,\n",
              " 'closure': 0.48140043763676155,\n",
              " 'closure style': 0.038293216630196934,\n",
              " 'clothing category': 0.07658643326039387,\n",
              " 'clothing product type': 0.08205689277899343,\n",
              " 'clothing size': 1.7177242888402624,\n",
              " 'clothing size type': 0.12035010940919039,\n",
              " 'clothing type': 0.005470459518599562,\n",
              " 'cm': 0.005470459518599562,\n",
              " 'color': 47.784463894967175,\n",
              " 'color family': 0.12035010940919039,\n",
              " 'color mapping': 0.08205689277899343,\n",
              " 'color/finish family': 0.05470459518599562,\n",
              " 'colour': 0.33916849015317285,\n",
              " 'colour code': 0.02735229759299781,\n",
              " 'combined shipping': 0.005470459518599562,\n",
              " 'comfort technology': 0.12582056892778995,\n",
              " 'compass': 0.12582056892778995,\n",
              " 'compatible devices': 0.016411378555798686,\n",
              " 'condition': 18.12910284463895,\n",
              " 'conflict': 0.005470459518599562,\n",
              " 'construction': 0.010940919037199124,\n",
              " 'contained battery type': 0.010940919037199124,\n",
              " 'contains batteries': 0.0437636761487965,\n",
              " 'contains cubic zirconia': 0.038293216630196934,\n",
              " 'count': 0.2844638949671772,\n",
              " 'country of manufacture': 0.2735229759299781,\n",
              " 'country of manufacturer': 0.10393873085339168,\n",
              " 'country of origin': 0.038293216630196934,\n",
              " 'country of origin - assembly': 3.801969365426696,\n",
              " 'country of origin - components': 4.091903719912473,\n",
              " 'country of origin assembly:': 0.06564551422319474,\n",
              " 'country of origin components:': 0.18599562363238512,\n",
              " 'country/ organization': 0.005470459518599562,\n",
              " 'country////region of manufacture': 0.005470459518599562,\n",
              " 'country//region of manufacture': 0.16411378555798686,\n",
              " 'country/region of manufacture': 4.62253829321663,\n",
              " 'crown': 0.12582056892778995,\n",
              " 'crystal': 0.25711159737417943,\n",
              " 'cushioning': 0.03282275711159737,\n",
              " 'date': 0.350109409190372,\n",
              " 'date first available': 0.005470459518599562,\n",
              " 'date first available at amazon.ca': 0.05470459518599562,\n",
              " 'date first available at amazon.co.uk': 0.0437636761487965,\n",
              " 'design': 0.0711159737417943,\n",
              " 'designed for': 0.010940919037199124,\n",
              " 'designer': 1.1652078774617067,\n",
              " 'dial color': 0.42669584245076586,\n",
              " 'dial markers': 0.15317286652078774,\n",
              " 'dial material': 0.10393873085339168,\n",
              " 'diameter': 0.038293216630196934,\n",
              " 'diamond clarity': 0.005470459518599562,\n",
              " 'diamond color': 0.005470459518599562,\n",
              " 'digital camera': 0.05470459518599562,\n",
              " 'dimensions': 0.2899343544857768,\n",
              " 'disclosures': 0.016411378555798686,\n",
              " 'display': 0.49781181619256015,\n",
              " 'display technology': 0.18052516411378555,\n",
              " 'domestic shipping': 0.005470459518599562,\n",
              " 'ean': 1.2089715536105032,\n",
              " 'elastic banded waist': 0.038293216630196934,\n",
              " 'enhanced visibility (reflective)': 0.05470459518599562,\n",
              " 'era': 0.005470459518599562,\n",
              " 'euro size': 0.005470459518599562,\n",
              " 'expandable': 0.016411378555798686,\n",
              " 'eye protection type': 0.005470459518599562,\n",
              " 'eye size:': 0.5142231947483589,\n",
              " 'eyewear frame style': 0.16958424507658643,\n",
              " 'fabric': 0.03282275711159737,\n",
              " 'fabric care': 0.05470459518599562,\n",
              " 'fabric care instructions': 0.03282275711159737,\n",
              " 'fabric content': 6.083150984682714,\n",
              " 'fabric material': 5.38293216630197,\n",
              " 'fabric type': 0.05470459518599562,\n",
              " 'fabrication': 0.34463894967177244,\n",
              " 'face shape': 0.437636761487965,\n",
              " 'fastener': 0.2899343544857768,\n",
              " 'fastener type': 0.038293216630196934,\n",
              " 'feature': 0.30087527352297594,\n",
              " 'features': 2.538293216630197,\n",
              " 'features & fastening': 0.03282275711159737,\n",
              " 'fine or fashion': 0.1477024070021882,\n",
              " 'finish': 0.26805251641137856,\n",
              " 'fishing': 0.005470459518599562,\n",
              " 'fit': 0.6181619256017505,\n",
              " 'fit to': 0.02188183807439825,\n",
              " 'fit:': 0.2024070021881838,\n",
              " 'fits brands': 0.06017505470459519,\n",
              " 'fits model': 0.010940919037199124,\n",
              " 'fits models': 0.06017505470459519,\n",
              " 'fits most screen size': 0.03282275711159737,\n",
              " 'fits over eyeglasses': 0.005470459518599562,\n",
              " 'fits styles': 0.005470459518599562,\n",
              " 'flame resistant': 0.05470459518599562,\n",
              " 'foot arch': 0.005470459518599562,\n",
              " 'footwear type': 0.0437636761487965,\n",
              " 'frame color': 0.8096280087527352,\n",
              " 'frame depth': 0.09846827133479213,\n",
              " 'frame material': 1.3074398249452954,\n",
              " 'frame material:': 0.5142231947483589,\n",
              " 'frame shape': 0.5962800875273523,\n",
              " 'frame style': 0.18599562363238512,\n",
              " 'frame type': 0.25711159737417943,\n",
              " 'free item': 0.005470459518599562,\n",
              " 'front': 0.06017505470459519,\n",
              " 'front style': 0.038293216630196934,\n",
              " 'fuel type': 0.016411378555798686,\n",
              " 'full product manual': 0.0437636761487965,\n",
              " 'garment care': 0.016411378555798686,\n",
              " 'gemstone type': 0.15317286652078774,\n",
              " 'gender': 50.17505470459519,\n",
              " 'general warranty': 0.016411378555798686,\n",
              " 'genre': 0.02735229759299781,\n",
              " 'global composite sports type': 0.16958424507658643,\n",
              " 'gold karat': 0.010940919037199124,\n",
              " 'golf shoe type': 0.02735229759299781,\n",
              " 'gps': 0.05470459518599562,\n",
              " 'ground': 0.005470459518599562,\n",
              " 'guaranteed authentic': 0.016411378555798686,\n",
              " 'hairstyle': 0.437636761487965,\n",
              " 'hammer loop': 0.038293216630196934,\n",
              " 'handbag style': 0.010940919037199124,\n",
              " 'hands': 0.04923413566739607,\n",
              " 'hardsided or softsided': 0.02735229759299781,\n",
              " 'has adaptive lenses': 0.010940919037199124,\n",
              " 'has expiration': 0.010940919037199124,\n",
              " 'has mercury': 0.010940919037199124,\n",
              " 'has paper wood': 0.010940919037199124,\n",
              " 'hat style': 0.02188183807439825,\n",
              " 'heart rate monitor': 0.05470459518599562,\n",
              " 'heat zones': 0.02188183807439825,\n",
              " 'heel height': 7.598468271334792,\n",
              " 'height': 0.010940919037199124,\n",
              " 'high visibility (ansi compliant)': 0.05470459518599562,\n",
              " 'hood': 0.038293216630196934,\n",
              " 'hooded': 0.05470459518599562,\n",
              " 'hunting': 0.07658643326039387,\n",
              " 'impact resistant': 0.005470459518599562,\n",
              " 'includes': 0.07658643326039387,\n",
              " 'inseam': 1.49890590809628,\n",
              " 'instrument': 0.005470459518599562,\n",
              " 'insulated': 0.09299781181619256,\n",
              " 'insulation': 0.09299781181619256,\n",
              " 'interior pockets': 0.005470459518599562,\n",
              " 'international shipping': 0.005470459518599562,\n",
              " 'international shipping?': 0.005470459518599562,\n",
              " 'inv': 0.005470459518599562,\n",
              " 'is dark sky-compliant': 0.016411378555798686,\n",
              " 'is energy star-certified': 0.016411378555798686,\n",
              " 'is lined': 0.010940919037199124,\n",
              " 'is orthopedic': 0.2024070021881838,\n",
              " 'is polarized': 0.02188183807439825,\n",
              " 'is portable': 0.10940919037199125,\n",
              " 'is recyclable': 0.016411378555798686,\n",
              " 'is water-resistant': 0.31181619256017507,\n",
              " 'is waterproof': 1.1214442013129104,\n",
              " 'is weather-resistant': 0.19146608315098468,\n",
              " 'is wheeled': 0.038293216630196934,\n",
              " 'isbn': 0.13129102844638948,\n",
              " 'issued/ not-issued': 0.005470459518599562,\n",
              " 'item character': 0.010940919037199124,\n",
              " 'item color': 0.038293216630196934,\n",
              " 'item package quantity': 0.06017505470459519,\n",
              " 'item spec attr - style (ebay)': 0.010940919037199124,\n",
              " 'item style': 0.06017505470459519,\n",
              " 'item type': 0.016411378555798686,\n",
              " 'item weight': 0.08205689277899343,\n",
              " 'item weight unit of measure': 0.010940919037199124,\n",
              " 'item width': 0.016411378555798686,\n",
              " 'jacket length': 0.0437636761487965,\n",
              " 'jewelry setting': 0.02735229759299781,\n",
              " 'kids backpacks': 0.10940919037199125,\n",
              " 'label': 0.03282275711159737,\n",
              " 'labor': 0.087527352297593,\n",
              " 'leather :': 0.010940919037199124,\n",
              " 'leather grade': 0.010940919037199124,\n",
              " 'leg': 0.3227571115973742,\n",
              " 'leg opening:': 0.010940919037199124,\n",
              " 'length': 0.175054704595186,\n",
              " 'lens': 0.6236323851203501,\n",
              " 'lens color': 0.7658643326039387,\n",
              " 'lens color family': 0.005470459518599562,\n",
              " 'lens material': 0.46498905908096283,\n",
              " 'lens material:': 0.5142231947483589,\n",
              " 'lens socket width': 0.010940919037199124,\n",
              " 'lens technology': 0.49781181619256015,\n",
              " 'lens tint': 0.13129102844638948,\n",
              " 'lens type': 0.16958424507658643,\n",
              " 'lens width': 0.3172866520787746,\n",
              " 'licensed': 0.05470459518599562,\n",
              " 'light transmission (vlt)': 0.005470459518599562,\n",
              " 'light weight': 0.03282275711159737,\n",
              " 'lined': 0.09299781181619256,\n",
              " 'lining': 0.016411378555798686,\n",
              " 'lining material': 0.02735229759299781,\n",
              " 'location - city/state': 0.010940919037199124,\n",
              " 'location - country': 0.010940919037199124,\n",
              " 'looks best on these face shapes:': 0.5142231947483589,\n",
              " 'machine washable': 0.038293216630196934,\n",
              " 'made in': 0.02188183807439825,\n",
              " 'main color': 0.6673960612691465,\n",
              " 'main colour': 0.016411378555798686,\n",
              " 'manufacturer': 1.1050328227571116,\n",
              " 'manufacturer number': 0.04923413566739607,\n",
              " 'manufacturer part number': 36.252735229759296,\n",
              " 'manufacturer sku': 0.02188183807439825,\n",
              " 'manufacturer_part_number': 4.266958424507659,\n",
              " 'material': 34.9070021881838,\n",
              " 'material composition': 0.05470459518599562,\n",
              " 'material detail-1': 0.005470459518599562,\n",
              " 'material type': 0.038293216630196934,\n",
              " 'materials': 0.016411378555798686,\n",
              " 'measurements:': 0.010940919037199124,\n",
              " 'mechanic': 0.005470459518599562,\n",
              " 'metal color': 0.087527352297593,\n",
              " 'metal stamp': 0.12582056892778995,\n",
              " 'metal type': 0.26258205689277897,\n",
              " 'military style': 0.005470459518599562,\n",
              " 'mirrored': 0.005470459518599562,\n",
              " 'model': 23.681619256017505,\n",
              " 'model no.': 1.663019693654267,\n",
              " 'model number': 0.0711159737417943,\n",
              " 'motion control': 0.03282275711159737,\n",
              " 'movement': 0.5142231947483589,\n",
              " 'mpn': 1.8490153172866521,\n",
              " 'mpn#': 0.005470459518599562,\n",
              " 'msrp': 0.03282275711159737,\n",
              " 'multi pack indicator': 1.5864332603938731,\n",
              " 'name': 0.09846827133479213,\n",
              " 'navy blue': 0.005470459518599562,\n",
              " 'necklace type': 0.2188183807439825,\n",
              " 'neckline': 0.016411378555798686,\n",
              " 'net weight': 0.09846827133479213,\n",
              " 'nickel free': 0.06017505470459519,\n",
              " 'nike id': 0.005470459518599562,\n",
              " 'nike product #': 0.005470459518599562,\n",
              " 'number of batteries included': 0.02188183807439825,\n",
              " 'number of compartments': 0.016411378555798686,\n",
              " 'number of heat settings': 0.02188183807439825,\n",
              " 'number of items': 0.07658643326039387,\n",
              " 'number of pieces': 0.038293216630196934,\n",
              " 'number of pockets': 0.07658643326039387,\n",
              " 'number of wheels': 0.038293216630196934,\n",
              " 'occasion': 5.9792122538293215,\n",
              " 'origin of components': 2.2702407002188183,\n",
              " 'outer material': 0.010940919037199124,\n",
              " 'overall material': 0.18599562363238512,\n",
              " 'package': 0.02188183807439825,\n",
              " 'packageweight': 0.03282275711159737,\n",
              " 'pant style': 0.03282275711159737,\n",
              " 'part number': 0.02188183807439825,\n",
              " 'part type': 0.06017505470459519,\n",
              " 'parts': 0.087527352297593,\n",
              " 'pattern': 2.658643326039387,\n",
              " 'pattern or design': 0.08205689277899343,\n",
              " 'picture': 0.005470459518599562,\n",
              " 'place of origin': 0.10940919037199125,\n",
              " 'pocket': 0.09299781181619256,\n",
              " 'polarised': 0.25711159737417943,\n",
              " 'polarized': 0.02188183807439825,\n",
              " 'polarized lenses': 0.9682713347921226,\n",
              " 'polarized?': 0.010940919037199124,\n",
              " 'power reserve': 0.04923413566739607,\n",
              " 'power type': 0.0711159737417943,\n",
              " 'primary color': 1.1214442013129104,\n",
              " 'primary shelf id': 0.5908096280087528,\n",
              " 'product #': 0.010940919037199124,\n",
              " 'product dimensions': 0.0711159737417943,\n",
              " 'product id': 0.010940919037199124,\n",
              " 'product in inches (l x w x h)': 1.6028446389496718,\n",
              " 'product name': 0.0437636761487965,\n",
              " 'product type': 0.10940919037199125,\n",
              " 'productgroup': 0.03282275711159737,\n",
              " 'profession': 0.087527352297593,\n",
              " 'pronation': 0.03282275711159737,\n",
              " 'protection': 0.4759299781181619,\n",
              " 'protects against': 0.005470459518599562,\n",
              " 'purpose': 0.010940919037199124,\n",
              " 'quantity in set': 0.010940919037199124,\n",
              " 'recommended location': 0.2789934354485777,\n",
              " 'recommended use': 0.07658643326039387,\n",
              " 'reinforced knee': 0.038293216630196934,\n",
              " 'reinforced pockets': 0.038293216630196934,\n",
              " 'release': 0.005470459518599562,\n",
              " 'removable hood': 0.05470459518599562,\n",
              " 'removable liner': 0.05470459518599562,\n",
              " 'resizable': 0.2954048140043764,\n",
              " 'resolution': 0.016411378555798686,\n",
              " 'resolution megapixels': 0.010940919037199124,\n",
              " 'retail price': 0.07658643326039387,\n",
              " 'ring size': 0.010940919037199124,\n",
              " 'ring style': 0.010940919037199124,\n",
              " 'rise': 0.4759299781181619,\n",
              " 'rx-able': 0.02188183807439825,\n",
              " 'safety apparel product type': 0.005470459518599562,\n",
              " 'safety feature': 0.09299781181619256,\n",
              " 'safety features': 0.08205689277899343,\n",
              " 'season': 3.681619256017506,\n",
              " 'seller inventory number': 0.005470459518599562,\n",
              " 'series name': 0.21334792122538293,\n",
              " 'shade': 0.2297592997811816,\n",
              " 'shape': 0.6072210065645514,\n",
              " 'shipping to usa': 0.005470459518599562,\n",
              " 'shipping weight': 0.038293216630196934,\n",
              " 'shipping weight (in pounds)': 6.925601750547046,\n",
              " 'shirt size': 0.005470459518599562,\n",
              " 'shoe category': 24.376367614879648,\n",
              " 'shoe closure': 3.3807439824945296,\n",
              " 'shoe fastening type': 0.038293216630196934,\n",
              " 'shoe height': 0.03282275711159737,\n",
              " 'shoe size': 23.326039387308533,\n",
              " 'shoe width': 15.74945295404814,\n",
              " 'size': 21.422319474835884,\n",
              " 'size/dimensions': 0.10940919037199125,\n",
              " 'sizearm': 0.06017505470459519,\n",
              " 'sizebridge': 0.06017505470459519,\n",
              " 'sku': 0.09846827133479213,\n",
              " 'sku number': 0.005470459518599562,\n",
              " 'sku#': 0.016411378555798686,\n",
              " 'sleeve length': 0.700218818380744,\n",
              " 'sleeve style': 0.02735229759299781,\n",
              " 'smart watch': 0.0437636761487965,\n",
              " 'sock size': 0.038293216630196934,\n",
              " 'sock style': 0.005470459518599562,\n",
              " 'sole': 0.02735229759299781,\n",
              " 'special features': 0.016411378555798686,\n",
              " 'spikes type': 0.02735229759299781,\n",
              " 'sport': 6.077680525164113,\n",
              " 'sports league': 0.7330415754923414,\n",
              " 'sports team': 1.2800875273522976,\n",
              " 'stability': 0.005470459518599562,\n",
              " 'stock no.': 0.016411378555798686,\n",
              " 'stone type': 0.005470459518599562,\n",
              " 'style': 14.923413566739608,\n",
              " 'style #': 0.005470459518599562,\n",
              " 'style code': 0.016411378555798686,\n",
              " 'style name': 0.0437636761487965,\n",
              " 'style number': 0.02188183807439825,\n",
              " 'style:': 0.5142231947483589,\n",
              " 'stylenumber': 0.016411378555798686,\n",
              " 'sub style': 0.06564551422319474,\n",
              " 'sub type': 0.02188183807439825,\n",
              " 'subdial': 0.016411378555798686,\n",
              " 'suitable for': 0.09299781181619256,\n",
              " 'szie': 0.010940919037199124,\n",
              " 'tactical': 0.005470459518599562,\n",
              " 'target audience': 0.16958424507658643,\n",
              " 'technician': 0.005470459518599562,\n",
              " 'temple length': 0.010940919037199124,\n",
              " 'temple size:': 0.5142231947483589,\n",
              " 'terrain': 0.07658643326039387,\n",
              " 'theme': 1.148796498905908,\n",
              " 'thick, warm, cozy': 0.005470459518599562,\n",
              " 'to fit': 0.038293216630196934,\n",
              " 'toe type': 0.09846827133479213,\n",
              " 'transactionid': 0.010940919037199124,\n",
              " 'type': 4.048140043763676,\n",
              " 'type 2': 0.016411378555798686,\n",
              " 'type of sole': 0.038293216630196934,\n",
              " 'ul safety listing': 0.05470459518599562,\n",
              " 'upper material': 0.2844638949671772,\n",
              " 'use': 0.010940919037199124,\n",
              " 'used with equipment type': 0.06017505470459519,\n",
              " 'uv protection': 0.005470459518599562,\n",
              " 'uv rating': 0.09299781181619256,\n",
              " 'variant group id': 0.7330415754923414,\n",
              " 'vehicle type': 0.1148796498905908,\n",
              " 'vendor description': 0.005470459518599562,\n",
              " 'very popular bag now a days': 0.016411378555798686,\n",
              " 'video game platform': 0.016411378555798686,\n",
              " 'waist': 0.10940919037199125,\n",
              " 'waist size': 0.06564551422319474,\n",
              " 'walmart no.': 1.6849015317286653,\n",
              " 'wash': 0.8096280087527352,\n",
              " 'watch band material': 0.2024070021881838,\n",
              " 'watch case shape': 0.19146608315098468,\n",
              " 'watch power source': 0.03282275711159737,\n",
              " 'watch shape': 0.016411378555798686,\n",
              " 'watch style': 0.12582056892778995,\n",
              " 'water resistant': 0.07658643326039387,\n",
              " 'water-resistant': 0.34463894967177244,\n",
              " 'waterproof': 0.13676148796498905,\n",
              " 'weather resistant': 0.038293216630196934,\n",
              " 'weather-resistant': 0.02735229759299781,\n",
              " 'weight': 0.16411378555798686,\n",
              " 'what includes': 0.016411378555798686,\n",
              " 'wheel type': 0.016411378555798686,\n",
              " 'wheeled': 0.10393873085339168,\n",
              " 'width': 0.09299781181619256,\n",
              " 'wind resistant': 0.05470459518599562,\n",
              " 'work shoes': 0.005470459518599562,\n",
              " 'year': 0.005470459518599562,\n",
              " 'year made': 0.010940919037199124,\n",
              " 'материал': 0.005470459518599562,\n",
              " '����������������': 0.005470459518599562}"
            ]
          },
          "metadata": {
            "tags": []
          },
          "execution_count": 48
        }
      ]
    },
    {
      "cell_type": "code",
      "metadata": {
        "id": "6ladQKbPz15r",
        "colab_type": "code",
        "colab": {
          "base_uri": "https://localhost:8080/",
          "height": 34
        },
        "outputId": "c0ff4ed0-aae7-4953-9637-81d095e2653e"
      },
      "source": [
        "# feature that represent more than 50% of items\n",
        "{k:v for k,v in keys_stat.items() if v > 50}"
      ],
      "execution_count": 50,
      "outputs": [
        {
          "output_type": "execute_result",
          "data": {
            "text/plain": [
              "{'gender': 50.17505470459519}"
            ]
          },
          "metadata": {
            "tags": []
          },
          "execution_count": 50
        }
      ]
    },
    {
      "cell_type": "code",
      "metadata": {
        "id": "AMBSSqu-0DtE",
        "colab_type": "code",
        "colab": {
          "base_uri": "https://localhost:8080/",
          "height": 68
        },
        "outputId": "809c7031-28aa-4529-fee8-2dfe2b667fc9"
      },
      "source": [
        "{k:v for k,v in keys_stat.items() if v > 40}"
      ],
      "execution_count": 51,
      "outputs": [
        {
          "output_type": "execute_result",
          "data": {
            "text/plain": [
              "{'brand': 48.62691466083151,\n",
              " 'color': 47.784463894967175,\n",
              " 'gender': 50.17505470459519}"
            ]
          },
          "metadata": {
            "tags": []
          },
          "execution_count": 51
        }
      ]
    },
    {
      "cell_type": "code",
      "metadata": {
        "id": "UtsWj9jj0aEJ",
        "colab_type": "code",
        "colab": {
          "base_uri": "https://localhost:8080/",
          "height": 102
        },
        "outputId": "e0b5c5c8-a6f8-483f-dc5b-b156a9e4b7b2"
      },
      "source": [
        "{k:v for k,v in keys_stat.items() if v > 30}"
      ],
      "execution_count": 53,
      "outputs": [
        {
          "output_type": "execute_result",
          "data": {
            "text/plain": [
              "{'brand': 48.62691466083151,\n",
              " 'color': 47.784463894967175,\n",
              " 'gender': 50.17505470459519,\n",
              " 'manufacturer part number': 36.252735229759296,\n",
              " 'material': 34.9070021881838}"
            ]
          },
          "metadata": {
            "tags": []
          },
          "execution_count": 53
        }
      ]
    },
    {
      "cell_type": "code",
      "metadata": {
        "id": "xjwbwZex0boh",
        "colab_type": "code",
        "colab": {}
      },
      "source": [
        "# feature engineering\n",
        "\n",
        "df['feat_brand_cat'] = df['feat_brand'].factorize()[0]\n",
        "df['feat_color_cat'] = df['feat_color'].factorize()[0]\n",
        "df['feat_gender_cat'] = df['feat_gender'].factorize()[0]\n",
        "df['feat_material_cat'] = df['feat_material'].factorize()[0]\n",
        "df['feat_manufacturer part number_cat'] = df['feat_manufacturer part number'].factorize()[0]\n",
        "\n",
        "df['feat_sport_cat'] = df['feat_sport'].factorize()[0]\n",
        "df['feat_style_cat'] = df['feat_style'].factorize()[0]\n",
        "\n",
        "for key in keys:\n",
        "  df[get_name_feat(key) + '_cat'] = df[get_name_feat(key)].factorize()[0]"
      ],
      "execution_count": 0,
      "outputs": []
    },
    {
      "cell_type": "code",
      "metadata": {
        "id": "MC-1J_mE0wXJ",
        "colab_type": "code",
        "colab": {
          "base_uri": "https://localhost:8080/",
          "height": 34
        },
        "outputId": "a04fdcee-fde3-4f0b-903d-1ffb048e8269"
      },
      "source": [
        "df['brand'] = df['brand'].map(lambda x: str(x).lower())\n",
        "df[ df.brand == df.feat_brand ].shape"
      ],
      "execution_count": 58,
      "outputs": [
        {
          "output_type": "execute_result",
          "data": {
            "text/plain": [
              "(8846, 531)"
            ]
          },
          "metadata": {
            "tags": []
          },
          "execution_count": 58
        }
      ]
    },
    {
      "cell_type": "code",
      "metadata": {
        "id": "cW-EAUdt0w6y",
        "colab_type": "code",
        "colab": {
          "base_uri": "https://localhost:8080/",
          "height": 1000
        },
        "outputId": "8ab6937d-fedc-49d2-a337-d9604ea79c90"
      },
      "source": [
        "feats = ['']\n",
        "feats_cat = [x for x in df.columns if 'cat' in x]\n",
        "feats_cat"
      ],
      "execution_count": 88,
      "outputs": [
        {
          "output_type": "execute_result",
          "data": {
            "text/plain": [
              "['categories',\n",
              " 'brand_cat',\n",
              " 'feat_fabrication',\n",
              " 'feat_location - city/state',\n",
              " 'feat_shoe category',\n",
              " 'feat_location - country',\n",
              " 'feat_clothing category',\n",
              " 'feat_catalog',\n",
              " 'feat_recommended location',\n",
              " 'feat_multi pack indicator',\n",
              " 'feat_certifications and listings',\n",
              " 'feat_brand_cat',\n",
              " 'feat_color_cat',\n",
              " 'feat_gender_cat',\n",
              " 'feat_material_cat',\n",
              " 'feat_manufacturer part number_cat',\n",
              " 'feat_sport_cat',\n",
              " 'feat_style_cat',\n",
              " 'feat_temple size:_cat',\n",
              " 'feat_material composition_cat',\n",
              " 'feat_part number_cat',\n",
              " 'feat_item color_cat',\n",
              " 'feat_model no._cat',\n",
              " 'feat_weather resistant_cat',\n",
              " 'feat_toe type_cat',\n",
              " 'feat_rx-able_cat',\n",
              " 'feat_fuel type_cat',\n",
              " 'feat_is dark sky-compliant_cat',\n",
              " 'feat_finish_cat',\n",
              " 'feat_watch style_cat',\n",
              " 'feat_case tone_cat',\n",
              " 'feat_fits brands_cat',\n",
              " 'feat_thick, warm, cozy_cat',\n",
              " 'feat_sole_cat',\n",
              " 'feat_release_cat',\n",
              " 'feat_technician_cat',\n",
              " 'feat_lens technology_cat',\n",
              " 'feat_smart watch_cat',\n",
              " 'feat_parts_cat',\n",
              " 'feat_manufacturer_cat',\n",
              " 'feat_movement_cat',\n",
              " 'feat_package_cat',\n",
              " 'feat_comfort technology_cat',\n",
              " 'feat_isbn_cat',\n",
              " 'feat_garment care_cat',\n",
              " 'feat_alarm_cat',\n",
              " 'feat_clasp type_cat',\n",
              " 'feat_has adaptive lenses_cat',\n",
              " 'feat_sku number_cat',\n",
              " 'feat_shoe width_cat',\n",
              " 'feat_front_cat',\n",
              " 'feat_uv protection_cat',\n",
              " 'feat_case finish_cat',\n",
              " 'feat_subdial_cat',\n",
              " 'feat_auto_cat',\n",
              " 'feat_safety apparel product type_cat',\n",
              " 'feat_seller inventory number_cat',\n",
              " 'feat_special features_cat',\n",
              " 'feat_ground_cat',\n",
              " 'feat_shipping weight (in pounds)_cat',\n",
              " 'feat_color mapping_cat',\n",
              " 'feat_atpv arc rating_cat',\n",
              " 'feat_fabrication_cat',\n",
              " 'feat_hood_cat',\n",
              " 'feat_location - city/state_cat',\n",
              " 'feat_country//region of manufacture_cat',\n",
              " 'feat_band width_cat',\n",
              " 'feat_picture_cat',\n",
              " 'feat_country/ organization_cat',\n",
              " 'feat_clothing type_cat',\n",
              " 'feat_country/region of manufacture_cat',\n",
              " 'feat_used with equipment type_cat',\n",
              " 'feat_battery type_cat',\n",
              " 'feat_character_cat',\n",
              " 'feat_item weight_cat',\n",
              " 'feat_materials_cat',\n",
              " 'feat_packageweight_cat',\n",
              " 'feat_design_cat',\n",
              " 'feat_jewelry setting_cat',\n",
              " 'feat_crystal_cat',\n",
              " 'feat_shoe category_cat',\n",
              " 'feat_year made_cat',\n",
              " 'feat_case back_cat',\n",
              " 'feat_protection_cat',\n",
              " 'feat_number of heat settings_cat',\n",
              " 'feat_measurements:_cat',\n",
              " 'feat_waterproof_cat',\n",
              " 'feat_location - country_cat',\n",
              " 'feat_polarized?_cat',\n",
              " 'feat_power reserve_cat',\n",
              " 'feat_full product manual_cat',\n",
              " 'feat_chest_cat',\n",
              " 'feat_autographed_cat',\n",
              " 'feat_amazonbestsellersrank_cat',\n",
              " 'feat_count_cat',\n",
              " 'feat_temple length_cat',\n",
              " 'feat_charge time (minutes)_cat',\n",
              " 'feat_colour_cat',\n",
              " 'feat_power type_cat',\n",
              " 'feat_reinforced knee_cat',\n",
              " 'feat_is recyclable_cat',\n",
              " 'feat_resolution megapixels_cat',\n",
              " 'feat_bag size range_cat',\n",
              " 'feat_diamond color_cat',\n",
              " 'feat_clothing category_cat',\n",
              " 'feat_age_cat',\n",
              " 'feat_dial markers_cat',\n",
              " 'feat_shoe height_cat',\n",
              " 'feat_has expiration_cat',\n",
              " 'feat_size/dimensions_cat',\n",
              " 'feat_licensed_cat',\n",
              " 'feat_shoe size_cat',\n",
              " 'feat_series name_cat',\n",
              " 'feat_color/finish family_cat',\n",
              " 'feat_bracelet style_cat',\n",
              " 'feat_shade_cat',\n",
              " 'feat_eye protection type_cat',\n",
              " 'feat_auto shut-off_cat',\n",
              " 'feat_domestic shipping_cat',\n",
              " 'feat_country of origin_cat',\n",
              " 'feat_country of origin assembly:_cat',\n",
              " 'feat_length_cat',\n",
              " 'feat_frame style_cat',\n",
              " 'feat_is waterproof_cat',\n",
              " 'feat_enhanced visibility (reflective)_cat',\n",
              " 'feat_quantity in set_cat',\n",
              " 'feat_item width_cat',\n",
              " 'feat_fabric care_cat',\n",
              " 'feat_athlete_cat',\n",
              " 'feat_chain/necklace length (in.)_cat',\n",
              " 'feat_wheel type_cat',\n",
              " 'feat_style code_cat',\n",
              " 'feat_catalog_cat',\n",
              " 'feat_metal color_cat',\n",
              " 'feat_display technology_cat',\n",
              " 'feat_polarised_cat',\n",
              " 'feat_eyewear frame style_cat',\n",
              " 'feat_polarized lenses_cat',\n",
              " 'feat_insulated_cat',\n",
              " 'feat_inseam_cat',\n",
              " 'feat_sports league_cat',\n",
              " 'feat_label_cat',\n",
              " 'feat_material detail-1_cat',\n",
              " 'feat_dial material_cat',\n",
              " 'feat_season_cat',\n",
              " 'feat_box_cat',\n",
              " 'feat_lens type_cat',\n",
              " 'feat_what includes_cat',\n",
              " 'feat_product #_cat',\n",
              " 'feat_wash_cat',\n",
              " 'feat_display_cat',\n",
              " 'feat_black_cat',\n",
              " 'feat_country of origin - assembly_cat',\n",
              " 'feat_chain length_cat',\n",
              " 'feat_includes_cat',\n",
              " 'feat_band length (in.)_cat',\n",
              " 'feat_model number_cat',\n",
              " 'feat_mechanic_cat',\n",
              " 'feat_variant group id_cat',\n",
              " 'feat_international shipping?_cat',\n",
              " 'feat_number of wheels_cat',\n",
              " 'feat_heel height_cat',\n",
              " 'feat_vehicle type_cat',\n",
              " 'feat_date first available_cat',\n",
              " 'feat_sports team_cat',\n",
              " 'feat_designer_cat',\n",
              " 'feat_материал_cat',\n",
              " 'feat_band manufacturer_cat',\n",
              " 'feat_manufacturer_part_number_cat',\n",
              " 'feat_style name_cat',\n",
              " 'feat_product id_cat',\n",
              " 'feat_lining_cat',\n",
              " 'feat_height_cat',\n",
              " 'feat_clothing size_cat',\n",
              " 'feat_transactionid_cat',\n",
              " 'feat_features_cat',\n",
              " 'feat_occasion_cat',\n",
              " 'feat_closure_cat',\n",
              " 'feat_resolution_cat',\n",
              " 'feat_width_cat',\n",
              " 'feat_size_cat',\n",
              " 'feat_assembled product weight_cat',\n",
              " 'feat_date first available at amazon.co.uk_cat',\n",
              " 'feat_shipping to usa_cat',\n",
              " 'feat_global composite sports type_cat',\n",
              " 'feat_casual & dress shoe style_cat',\n",
              " 'feat_product name_cat',\n",
              " 'feat_frame color_cat',\n",
              " 'feat_hat style_cat',\n",
              " 'feat_contains batteries_cat',\n",
              " 'feat_purpose_cat',\n",
              " 'feat_material type_cat',\n",
              " 'feat_features & fastening_cat',\n",
              " 'feat_lens width_cat',\n",
              " 'feat_general warranty_cat',\n",
              " 'feat_szie_cat',\n",
              " 'feat_is energy star-certified_cat',\n",
              " 'feat_terrain_cat',\n",
              " 'feat_face shape_cat',\n",
              " 'feat_tactical_cat',\n",
              " 'feat_date_cat',\n",
              " 'feat_animal type_cat',\n",
              " 'feat_carats_cat',\n",
              " 'feat_very popular bag now a days_cat',\n",
              " 'feat_closure style_cat',\n",
              " 'feat_military style_cat',\n",
              " 'feat_boxed-product dimensions_cat',\n",
              " 'feat_type_cat',\n",
              " 'feat_free item_cat',\n",
              " 'feat_lens color_cat',\n",
              " 'feat_sku#_cat',\n",
              " 'feat_recommended location_cat',\n",
              " 'feat_kids backpacks_cat',\n",
              " 'feat_multi pack indicator_cat',\n",
              " 'feat_lens socket width_cat',\n",
              " 'feat_is water-resistant_cat',\n",
              " 'feat_year_cat',\n",
              " 'feat_designed for_cat',\n",
              " 'feat_fabric care instructions_cat',\n",
              " 'feat_mpn_cat',\n",
              " 'feat_cm_cat',\n",
              " 'feat_walmart no._cat',\n",
              " 'feat_product type_cat',\n",
              " 'feat_batteries required_cat',\n",
              " 'feat_instrument_cat',\n",
              " 'feat_assembled in country of origin_cat',\n",
              " 'feat_ring size_cat',\n",
              " 'feat_fishing_cat',\n",
              " 'feat_era_cat',\n",
              " 'feat_net weight_cat',\n",
              " 'feat_labor_cat',\n",
              " 'feat_bridge_cat',\n",
              " 'feat_number of pockets_cat',\n",
              " 'feat_frame type_cat',\n",
              " 'feat_leg opening:_cat',\n",
              " 'feat_upper material_cat',\n",
              " 'feat_characteristics_cat',\n",
              " 'feat_airport friendly_cat',\n",
              " 'feat_handbag style_cat',\n",
              " 'feat_100% adidas authentic_cat',\n",
              " 'feat_metal stamp_cat',\n",
              " 'feat_reinforced pockets_cat',\n",
              " 'feat_product in inches (l x w x h)_cat',\n",
              " 'feat_is lined_cat',\n",
              " 'feat_arm_cat',\n",
              " 'feat_euro size_cat',\n",
              " 'feat_sub type_cat',\n",
              " 'feat_nike product #_cat',\n",
              " 'feat_hooded_cat',\n",
              " 'feat_shipping weight_cat',\n",
              " 'feat_gold karat_cat',\n",
              " 'feat_fits most screen size_cat',\n",
              " 'feat_item weight unit of measure_cat',\n",
              " 'feat_footwear type_cat',\n",
              " 'feat_water-resistant_cat',\n",
              " 'feat_bed size_cat',\n",
              " 'feat_item style_cat',\n",
              " 'feat_fabric_cat',\n",
              " 'feat_case type_cat',\n",
              " 'feat_issued/ not-issued_cat',\n",
              " 'feat_genre_cat',\n",
              " 'feat_case diameter_cat',\n",
              " 'feat_foot arch_cat',\n",
              " 'feat_shoe fastening type_cat',\n",
              " 'feat_fabric type_cat',\n",
              " 'feat_lens tint_cat',\n",
              " 'feat_frame material:_cat',\n",
              " 'feat_removable hood_cat',\n",
              " 'feat_navy blue_cat',\n",
              " 'feat_bridge size:_cat',\n",
              " 'feat_shape_cat',\n",
              " 'feat_safety feature_cat',\n",
              " 'feat_number of compartments_cat',\n",
              " 'feat_metal type_cat',\n",
              " 'feat_light weight_cat',\n",
              " 'feat_heat zones_cat',\n",
              " 'feat_colour code_cat',\n",
              " 'feat_sku_cat',\n",
              " 'feat_item package quantity_cat',\n",
              " 'feat_hardsided or softsided_cat',\n",
              " 'feat_international shipping_cat',\n",
              " 'feat_age range_cat',\n",
              " 'feat_hunting_cat',\n",
              " 'feat_style #_cat',\n",
              " 'feat_manufacturer number_cat',\n",
              " 'feat_to fit_cat',\n",
              " 'feat_lens_cat',\n",
              " 'feat_style:_cat',\n",
              " 'feat_fits over eyeglasses_cat',\n",
              " 'feat_age gender group_cat',\n",
              " 'feat_neckline_cat',\n",
              " 'feat_pronation_cat',\n",
              " 'feat_weight_cat',\n",
              " 'feat_dimensions_cat',\n",
              " 'feat_age start_cat',\n",
              " 'feat_adjustable_cat',\n",
              " 'feat_pant style_cat',\n",
              " 'feat_sleeve length_cat',\n",
              " 'feat_casing_cat',\n",
              " 'feat_is polarized_cat',\n",
              " 'feat_frame depth_cat',\n",
              " 'feat_recommended use_cat',\n",
              " 'feat_high visibility (ansi compliant)_cat',\n",
              " 'feat_inv_cat',\n",
              " 'feat_cushioning_cat',\n",
              " 'feat_band material_cat',\n",
              " 'feat_band type_cat',\n",
              " 'feat_feature_cat',\n",
              " 'feat_primary shelf id_cat',\n",
              " 'feat_country of origin components:_cat',\n",
              " 'feat_target audience_cat',\n",
              " 'feat_hammer loop_cat',\n",
              " 'feat_primary color_cat',\n",
              " 'feat_capacity_cat',\n",
              " 'feat_number of batteries included_cat',\n",
              " 'feat_type 2_cat',\n",
              " 'feat_compatible devices_cat',\n",
              " 'feat_expandable_cat',\n",
              " 'feat_lining material_cat',\n",
              " 'feat_watch shape_cat',\n",
              " 'feat_main color_cat',\n",
              " 'feat_wheeled_cat',\n",
              " 'feat_lens color family_cat',\n",
              " 'feat_wind resistant_cat',\n",
              " 'feat_assembled product dimensions (l x w x h)_cat',\n",
              " 'feat_motion control_cat',\n",
              " 'feat_attachment_cat',\n",
              " 'feat_batteries required?_cat',\n",
              " 'feat_authenticity_cat',\n",
              " 'feat_made in_cat',\n",
              " 'feat_fit:_cat',\n",
              " 'feat_country of manufacturer_cat',\n",
              " 'feat_age segment_cat',\n",
              " 'feat_fits styles_cat',\n",
              " 'feat_vendor description_cat',\n",
              " 'feat_dial color_cat',\n",
              " 'feat_productgroup_cat',\n",
              " 'feat_gps_cat',\n",
              " 'feat_date first available at amazon.ca_cat',\n",
              " 'feat_sizebridge_cat',\n",
              " 'feat_fine or fashion_cat',\n",
              " 'feat_is wheeled_cat',\n",
              " 'feat_digital camera_cat',\n",
              " 'feat_shoe closure_cat',\n",
              " 'feat_ean_cat',\n",
              " 'feat_waist size_cat',\n",
              " 'feat_chronograph_cat',\n",
              " 'feat_item type_cat',\n",
              " 'feat_fit_cat',\n",
              " 'feat_item character_cat',\n",
              " 'feat_hairstyle_cat',\n",
              " 'feat_case material_cat',\n",
              " 'feat_pattern_cat',\n",
              " 'feat_overall material_cat',\n",
              " 'feat_place of origin_cat',\n",
              " 'feat_mirrored_cat',\n",
              " 'feat_sizearm_cat',\n",
              " 'feat_bezel_cat',\n",
              " 'feat_watch case shape_cat',\n",
              " 'feat_number of pieces_cat',\n",
              " 'feat_pattern or design_cat',\n",
              " 'feat_water resistant_cat',\n",
              " 'feat_construction_cat',\n",
              " 'feat_case type:_cat',\n",
              " 'feat_chain included_cat',\n",
              " 'feat_name_cat',\n",
              " 'feat_diameter_cat',\n",
              " 'feat_clothing product type_cat',\n",
              " 'feat_contains cubic zirconia_cat',\n",
              " 'feat_band color_cat',\n",
              " 'feat_looks best on these face shapes:_cat',\n",
              " 'feat_theme_cat',\n",
              " 'feat_fit to_cat',\n",
              " 'feat_polarized_cat',\n",
              " 'feat_type of sole_cat',\n",
              " 'feat_use_cat',\n",
              " 'feat_number of items_cat',\n",
              " 'feat_combined shipping_cat',\n",
              " 'feat_model_cat',\n",
              " 'feat_age end_cat',\n",
              " 'feat_watch band material_cat',\n",
              " 'feat_style number_cat',\n",
              " 'feat_frame shape_cat',\n",
              " 'feat_article_cat',\n",
              " 'feat_battery voltage_cat',\n",
              " 'feat_manufacturer sku_cat',\n",
              " 'feat_lens material_cat',\n",
              " 'feat_bridge/temple size:_cat',\n",
              " 'feat_fastener_cat',\n",
              " 'feat_watch power source_cat',\n",
              " 'feat_condition_cat',\n",
              " 'feat_fits model_cat',\n",
              " 'feat_batteries included?_cat',\n",
              " 'feat_safety features_cat',\n",
              " 'feat_retail price_cat',\n",
              " 'feat_best sellers rank_cat',\n",
              " 'feat_resizable_cat',\n",
              " 'feat_crown_cat',\n",
              " 'feat_spikes type_cat',\n",
              " 'feat_work shoes_cat',\n",
              " 'feat_bridge width_cat',\n",
              " 'feat_profession_cat',\n",
              " 'feat_compass_cat',\n",
              " 'feat_disclosures_cat',\n",
              " 'feat_conflict_cat',\n",
              " 'feat_fabric content_cat',\n",
              " 'feat_nickel free_cat',\n",
              " 'feat_chest size_cat',\n",
              " 'feat_insulation_cat',\n",
              " 'feat_jacket length_cat',\n",
              " 'feat_fits models_cat',\n",
              " 'feat_part type_cat',\n",
              " 'feat_guaranteed authentic_cat',\n",
              " 'feat_nike id_cat',\n",
              " 'feat_leather :_cat',\n",
              " 'feat_is orthopedic_cat',\n",
              " 'feat_weather-resistant_cat',\n",
              " 'feat_leather grade_cat',\n",
              " 'feat_country////region of manufacture_cat',\n",
              " 'feat_heart rate monitor_cat',\n",
              " 'feat_stone type_cat',\n",
              " 'feat_interior pockets_cat',\n",
              " 'feat_shirt size_cat',\n",
              " 'feat_frame material_cat',\n",
              " 'feat_has mercury_cat',\n",
              " 'feat_����������������_cat',\n",
              " 'feat_accessory type_cat',\n",
              " 'feat_gemstone type_cat',\n",
              " 'feat_item spec attr - style (ebay)_cat',\n",
              " 'feat_has paper wood_cat',\n",
              " 'feat_leg_cat',\n",
              " 'feat_clothing size type_cat',\n",
              " 'feat_mpn#_cat',\n",
              " 'feat_diamond clarity_cat',\n",
              " 'feat_sock style_cat',\n",
              " 'feat_color family_cat',\n",
              " 'feat_origin of components_cat',\n",
              " 'feat_sock size_cat',\n",
              " 'feat_msrp_cat',\n",
              " 'feat_impact resistant_cat',\n",
              " 'feat_applicable_cat',\n",
              " 'feat_is portable_cat',\n",
              " 'feat_removable liner_cat',\n",
              " 'feat_country of manufacture_cat',\n",
              " 'feat_waist_cat',\n",
              " 'feat_golf shoe type_cat',\n",
              " 'feat_fastener type_cat',\n",
              " 'feat_sleeve style_cat',\n",
              " 'feat_elastic banded waist_cat',\n",
              " 'feat_charger included_cat',\n",
              " 'feat_necklace type_cat',\n",
              " 'feat_product dimensions_cat',\n",
              " 'feat_front style_cat',\n",
              " 'feat_eye size:_cat',\n",
              " 'feat_uv rating_cat',\n",
              " 'feat_ul safety listing_cat',\n",
              " 'feat_fabric material_cat',\n",
              " 'feat_country of origin - components_cat',\n",
              " 'feat_stylenumber_cat',\n",
              " 'feat_stock no._cat',\n",
              " 'feat_sub style_cat',\n",
              " 'feat_flame resistant_cat',\n",
              " 'feat_light transmission (vlt)_cat',\n",
              " 'feat_case thickness_cat',\n",
              " 'feat_main colour_cat',\n",
              " 'feat_band length_cat',\n",
              " 'feat_protects against_cat',\n",
              " 'feat_stability_cat',\n",
              " 'feat_rise_cat',\n",
              " 'feat_age group_cat',\n",
              " 'feat_suitable for_cat',\n",
              " 'feat_cleaning, care & maintenance_cat',\n",
              " 'feat_adidas_cat',\n",
              " 'feat_audience_cat',\n",
              " 'feat_hands_cat',\n",
              " 'feat_is weather-resistant_cat',\n",
              " 'feat_video game platform_cat',\n",
              " 'feat_lens material:_cat',\n",
              " 'feat_contained battery type_cat',\n",
              " 'feat_outer material_cat',\n",
              " 'feat_machine washable_cat',\n",
              " 'feat_lined_cat',\n",
              " 'feat_ring style_cat',\n",
              " 'feat_certifications and listings_cat',\n",
              " 'feat_antiscratch lens coating_cat',\n",
              " 'feat_pocket_cat',\n",
              " 'feat_boot height_cat']"
            ]
          },
          "metadata": {
            "tags": []
          },
          "execution_count": 88
        }
      ]
    },
    {
      "cell_type": "code",
      "metadata": {
        "id": "i7rI4EUF1qZu",
        "colab_type": "code",
        "colab": {
          "base_uri": "https://localhost:8080/",
          "height": 34
        },
        "outputId": "89755cb9-9d55-47e6-bb99-732e731240d1"
      },
      "source": [
        "feats = ['brand_cat', 'feat_brand_cat', 'feat_color_cat', 'feat_material_cat', 'feat_gender_cat', 'feat_manufacturer part number_cat']\n",
        "# feats += feats_cat\n",
        "# feats = list(set(feats))\n",
        "\n",
        "model = RandomForestRegressor(max_depth=5, n_estimators=100)\n",
        "\n",
        "run_model(feats, model)"
      ],
      "execution_count": 92,
      "outputs": [
        {
          "output_type": "execute_result",
          "data": {
            "text/plain": [
              "(-58.16392509274151, 4.232647871394765)"
            ]
          },
          "metadata": {
            "tags": []
          },
          "execution_count": 92
        }
      ]
    },
    {
      "cell_type": "code",
      "metadata": {
        "id": "vJIOBw101zuE",
        "colab_type": "code",
        "colab": {
          "base_uri": "https://localhost:8080/",
          "height": 187
        },
        "outputId": "8c9b188f-c3f6-4f12-b5b9-d846abeb2fec"
      },
      "source": [
        "X = df [ feats ].values\n",
        "y = df['prices_amountmin'].values\n",
        "\n",
        "m = RandomForestRegressor(max_depth=5, n_estimators=100, random_state=0)\n",
        "m.fit(X, y)\n",
        "\n",
        "print(result)\n",
        "perm = PermutationImportance(m, random_state=1).fit(X, y);\n",
        "eli5.show_weights(perm, feature_names = feats)"
      ],
      "execution_count": 97,
      "outputs": [
        {
          "output_type": "stream",
          "text": [
            "(-58.52291915265647, 4.23058325464537)\n"
          ],
          "name": "stdout"
        },
        {
          "output_type": "execute_result",
          "data": {
            "text/html": [
              "\n",
              "    <style>\n",
              "    table.eli5-weights tr:hover {\n",
              "        filter: brightness(85%);\n",
              "    }\n",
              "</style>\n",
              "\n",
              "\n",
              "\n",
              "    \n",
              "\n",
              "    \n",
              "\n",
              "    \n",
              "\n",
              "    \n",
              "\n",
              "    \n",
              "\n",
              "    \n",
              "\n",
              "\n",
              "    \n",
              "\n",
              "    \n",
              "\n",
              "    \n",
              "\n",
              "    \n",
              "\n",
              "    \n",
              "\n",
              "    \n",
              "\n",
              "\n",
              "    \n",
              "\n",
              "    \n",
              "\n",
              "    \n",
              "\n",
              "    \n",
              "\n",
              "    \n",
              "        <table class=\"eli5-weights eli5-feature-importances\" style=\"border-collapse: collapse; border: none; margin-top: 0em; table-layout: auto;\">\n",
              "    <thead>\n",
              "    <tr style=\"border: none;\">\n",
              "        <th style=\"padding: 0 1em 0 0.5em; text-align: right; border: none;\">Weight</th>\n",
              "        <th style=\"padding: 0 0.5em 0 0.5em; text-align: left; border: none;\">Feature</th>\n",
              "    </tr>\n",
              "    </thead>\n",
              "    <tbody>\n",
              "    \n",
              "        <tr style=\"background-color: hsl(120, 100.00%, 80.00%); border: none;\">\n",
              "            <td style=\"padding: 0 1em 0 0.5em; text-align: right; border: none;\">\n",
              "                0.2565\n",
              "                \n",
              "                    &plusmn; 0.0078\n",
              "                \n",
              "            </td>\n",
              "            <td style=\"padding: 0 0.5em 0 0.5em; text-align: left; border: none;\">\n",
              "                brand_cat\n",
              "            </td>\n",
              "        </tr>\n",
              "    \n",
              "        <tr style=\"background-color: hsl(120, 100.00%, 89.71%); border: none;\">\n",
              "            <td style=\"padding: 0 1em 0 0.5em; text-align: right; border: none;\">\n",
              "                0.0993\n",
              "                \n",
              "                    &plusmn; 0.0102\n",
              "                \n",
              "            </td>\n",
              "            <td style=\"padding: 0 0.5em 0 0.5em; text-align: left; border: none;\">\n",
              "                feat_material_cat\n",
              "            </td>\n",
              "        </tr>\n",
              "    \n",
              "        <tr style=\"background-color: hsl(120, 100.00%, 96.10%); border: none;\">\n",
              "            <td style=\"padding: 0 1em 0 0.5em; text-align: right; border: none;\">\n",
              "                0.0248\n",
              "                \n",
              "                    &plusmn; 0.0024\n",
              "                \n",
              "            </td>\n",
              "            <td style=\"padding: 0 0.5em 0 0.5em; text-align: left; border: none;\">\n",
              "                feat_gender_cat\n",
              "            </td>\n",
              "        </tr>\n",
              "    \n",
              "        <tr style=\"background-color: hsl(120, 100.00%, 96.89%); border: none;\">\n",
              "            <td style=\"padding: 0 1em 0 0.5em; text-align: right; border: none;\">\n",
              "                0.0179\n",
              "                \n",
              "                    &plusmn; 0.0009\n",
              "                \n",
              "            </td>\n",
              "            <td style=\"padding: 0 0.5em 0 0.5em; text-align: left; border: none;\">\n",
              "                feat_brand_cat\n",
              "            </td>\n",
              "        </tr>\n",
              "    \n",
              "        <tr style=\"background-color: hsl(120, 100.00%, 97.55%); border: none;\">\n",
              "            <td style=\"padding: 0 1em 0 0.5em; text-align: right; border: none;\">\n",
              "                0.0128\n",
              "                \n",
              "                    &plusmn; 0.0003\n",
              "                \n",
              "            </td>\n",
              "            <td style=\"padding: 0 0.5em 0 0.5em; text-align: left; border: none;\">\n",
              "                feat_shape_cat\n",
              "            </td>\n",
              "        </tr>\n",
              "    \n",
              "        <tr style=\"background-color: hsl(120, 100.00%, 98.15%); border: none;\">\n",
              "            <td style=\"padding: 0 1em 0 0.5em; text-align: right; border: none;\">\n",
              "                0.0085\n",
              "                \n",
              "                    &plusmn; 0.0010\n",
              "                \n",
              "            </td>\n",
              "            <td style=\"padding: 0 0.5em 0 0.5em; text-align: left; border: none;\">\n",
              "                feat_metal type_cat\n",
              "            </td>\n",
              "        </tr>\n",
              "    \n",
              "        <tr style=\"background-color: hsl(120, 100.00%, 98.99%); border: none;\">\n",
              "            <td style=\"padding: 0 1em 0 0.5em; text-align: right; border: none;\">\n",
              "                0.0036\n",
              "                \n",
              "                    &plusmn; 0.0008\n",
              "                \n",
              "            </td>\n",
              "            <td style=\"padding: 0 0.5em 0 0.5em; text-align: left; border: none;\">\n",
              "                feat_style_cat\n",
              "            </td>\n",
              "        </tr>\n",
              "    \n",
              "        <tr style=\"background-color: hsl(120, 100.00%, 99.89%); border: none;\">\n",
              "            <td style=\"padding: 0 1em 0 0.5em; text-align: right; border: none;\">\n",
              "                0.0002\n",
              "                \n",
              "                    &plusmn; 0.0000\n",
              "                \n",
              "            </td>\n",
              "            <td style=\"padding: 0 0.5em 0 0.5em; text-align: left; border: none;\">\n",
              "                feat_sport_cat\n",
              "            </td>\n",
              "        </tr>\n",
              "    \n",
              "    \n",
              "    </tbody>\n",
              "</table>\n",
              "    \n",
              "\n",
              "    \n",
              "\n",
              "\n",
              "    \n",
              "\n",
              "    \n",
              "\n",
              "    \n",
              "\n",
              "    \n",
              "\n",
              "    \n",
              "\n",
              "    \n",
              "\n",
              "\n",
              "\n"
            ],
            "text/plain": [
              "<IPython.core.display.HTML object>"
            ]
          },
          "metadata": {
            "tags": []
          },
          "execution_count": 97
        }
      ]
    },
    {
      "cell_type": "code",
      "metadata": {
        "id": "QiXl1qZp213x",
        "colab_type": "code",
        "colab": {}
      },
      "source": [
        "feats = ['brand_cat', 'feat_brand_cat', 'feat_material_cat', 'feat_gender_cat', 'feat_sport_cat', 'feat_style_cat', 'feat_metal type_cat', 'feat_shape_cat']\n",
        "model = RandomForestRegressor(max_depth=5, n_estimators=100)"
      ],
      "execution_count": 0,
      "outputs": []
    },
    {
      "cell_type": "code",
      "metadata": {
        "id": "6AJbzIRg3CEQ",
        "colab_type": "code",
        "colab": {}
      },
      "source": [
        "result = run_model(feats, model)"
      ],
      "execution_count": 0,
      "outputs": []
    },
    {
      "cell_type": "code",
      "metadata": {
        "id": "7V5Nk8Mw3GQ5",
        "colab_type": "code",
        "colab": {
          "base_uri": "https://localhost:8080/",
          "height": 221
        },
        "outputId": "804edd62-d4b3-4a6d-b961-7961f6e1c7eb"
      },
      "source": [
        "df['brand'].value_counts(normalize=True)"
      ],
      "execution_count": 72,
      "outputs": [
        {
          "output_type": "execute_result",
          "data": {
            "text/plain": [
              "nike               0.097210\n",
              "puma               0.033315\n",
              "ralph lauren       0.028775\n",
              "vans               0.021116\n",
              "new balance        0.020295\n",
              "                     ...   \n",
              "lyceem             0.000055\n",
              "reef footwear      0.000055\n",
              "ib pad             0.000055\n",
              "nike sb            0.000055\n",
              "g.h. bass & co.    0.000055\n",
              "Name: brand, Length: 1732, dtype: float64"
            ]
          },
          "metadata": {
            "tags": []
          },
          "execution_count": 72
        }
      ]
    },
    {
      "cell_type": "code",
      "metadata": {
        "id": "45rpftpL3VHF",
        "colab_type": "code",
        "colab": {
          "base_uri": "https://localhost:8080/",
          "height": 102
        },
        "outputId": "7d7da078-7e24-4989-fb7f-676481d373cc"
      },
      "source": [
        "df[ df['brand'] == 'nike' ].features_parsed.head().values"
      ],
      "execution_count": 73,
      "outputs": [
        {
          "output_type": "execute_result",
          "data": {
            "text/plain": [
              "array([{'sport': 'soccer', 'main color': 'orange', 'type': 'cleats', 'condition': 'new without box'},\n",
              "       {'sport': 'soccer', 'main color': 'orange', 'type': 'cleats', 'condition': 'new without box'},\n",
              "       {'sport': 'soccer', 'main color': 'orange', 'type': 'cleats', 'condition': 'new without box'},\n",
              "       {'style': 'athletic sneakers', 'condition': 'new with box'}, {}],\n",
              "      dtype=object)"
            ]
          },
          "metadata": {
            "tags": []
          },
          "execution_count": 73
        }
      ]
    },
    {
      "cell_type": "code",
      "metadata": {
        "id": "1pGOfvnN3vlS",
        "colab_type": "code",
        "colab": {
          "base_uri": "https://localhost:8080/",
          "height": 139
        },
        "outputId": "a18b7096-e2df-4984-da26-deefce540301"
      },
      "source": [
        "df[ df['brand'] == 'nike' ].features_parsed.sample(5).values"
      ],
      "execution_count": 82,
      "outputs": [
        {
          "output_type": "execute_result",
          "data": {
            "text/plain": [
              "array([{'gender': 'men', 'shoe category': 'mens shoes', 'color': 'white/black/gum light brown', 'casual & dress shoe style': 'running shoes', 'manufacturer part number': '716752100', 'brand': 'nike', 'shoe width': 'medium (d, m)'},\n",
              "       {'style': 'basketball shoes', 'pattern': 'solid', 'country/region of manufacture': 'china', 'condition': 'new with box'},\n",
              "       {},\n",
              "       {'sport': 'soccer', 'type': 'cleats', 'color': 'yellow', 'name': 'mercurial vapor ix', 'condition': 'new without box', 'gender': 'men', 'main color': 'yellow'},\n",
              "       {'style': 'running, cross training', 'condition': 'new with box'}],\n",
              "      dtype=object)"
            ]
          },
          "metadata": {
            "tags": []
          },
          "execution_count": 82
        }
      ]
    },
    {
      "cell_type": "code",
      "metadata": {
        "id": "i9vL6PHR4iLU",
        "colab_type": "code",
        "colab": {
          "base_uri": "https://localhost:8080/",
          "height": 289
        },
        "outputId": "be320ea6-0570-43d1-a553-6c93780c6835"
      },
      "source": [
        "df['feat_age group'].value_counts()"
      ],
      "execution_count": 83,
      "outputs": [
        {
          "output_type": "execute_result",
          "data": {
            "text/plain": [
              "adult               4563\n",
              "men                  350\n",
              "child                 77\n",
              "men's                 33\n",
              "unisex                 6\n",
              "mens                   4\n",
              "infant                 4\n",
              "toddler                4\n",
              "boys'                  3\n",
              "youth                  2\n",
              "women                  2\n",
              "men||women             2\n",
              "women ,�� unisex       2\n",
              "12 up                  1\n",
              "adult ,�� teen         1\n",
              "Name: feat_age group, dtype: int64"
            ]
          },
          "metadata": {
            "tags": []
          },
          "execution_count": 83
        }
      ]
    },
    {
      "cell_type": "code",
      "metadata": {
        "id": "HRkTAw_P4x97",
        "colab_type": "code",
        "colab": {
          "base_uri": "https://localhost:8080/",
          "height": 289
        },
        "outputId": "5a65caff-e2a9-4f82-e0f9-1db50f68e402"
      },
      "source": [
        "df['weight'].unique()"
      ],
      "execution_count": 95,
      "outputs": [
        {
          "output_type": "execute_result",
          "data": {
            "text/plain": [
              "array([nan, '3.0 lbs', '9 g', '1.45 lbs', '0.45 lbs', '1.0 lbs',\n",
              "       '0.23 lbs', '5.0 lbs', '5.5 lbs', '7.45 lbs', '4.0 lbs',\n",
              "       '2.7969 lbs', '3.9 lbs', '4.6 pounds', '2.1 lbs', '1.1057 lbs',\n",
              "       '15.0 lbs', '2.4 ounces', '454 g', '0.105 lbs', '9.1 ounces',\n",
              "       '4.8 lbs', '6.1 lbs', '6.5 lbs', '1.1041 lbs', '1.3 Kg', '91 g',\n",
              "       '20.0 lbs', '6.0 lbs', '386 g', '0.81 lbs', '4.5 lbs',\n",
              "       '0.5 ounces', '2.0 lbs', '3.13 lbs', '5.9 lbs', '6.15 lbs',\n",
              "       '1 pounds', '1.95 lbs', '2.15 lbs', '2 pounds', '2.1 pounds',\n",
              "       '14 Kg', '0.4788 lbs', '10.0 lbs', '0.38 lbs', '2.5 lbs',\n",
              "       '68.912 lbs', '45 g', '13.09 lbs', '2.5 pounds', '0.21 lbs',\n",
              "       '16.75 lbs', '6.3 lbs', '272 g', '1.8 Kg', '2.8 pounds', '0.1 lbs',\n",
              "       '5.05 lbs', '0.28 lbs', '76.08 lbs', '0.15 lbs', '200 g',\n",
              "       '7.8 pounds', '399 g', '4.95 lbs', '64.144 lbs', '24 pounds',\n",
              "       '73.696 lbs', '1.6 lbs', '6.6 ounces', '5 g', '1.2 Kg', '862 g',\n",
              "       '3.05 lb', '8.6 ounces', '3.6 lbs', '71.296 lbs', '5.2 pounds',\n",
              "       '3.44 lbs', '0.3 ounces', '1.4 Kg'], dtype=object)"
            ]
          },
          "metadata": {
            "tags": []
          },
          "execution_count": 95
        }
      ]
    },
    {
      "cell_type": "code",
      "metadata": {
        "id": "nLz7pMSL69PE",
        "colab_type": "code",
        "colab": {}
      },
      "source": [
        ""
      ],
      "execution_count": 0,
      "outputs": []
    }
  ]
}