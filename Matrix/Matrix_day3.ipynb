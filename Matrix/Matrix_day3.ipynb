{
  "nbformat": 4,
  "nbformat_minor": 0,
  "metadata": {
    "colab": {
      "name": "Matrix_day3.ipynb",
      "provenance": [],
      "collapsed_sections": [],
      "toc_visible": true
    },
    "kernelspec": {
      "name": "python3",
      "display_name": "Python 3"
    }
  },
  "cells": [
    {
      "cell_type": "code",
      "metadata": {
        "id": "gzhRQYme95NR",
        "colab_type": "code",
        "outputId": "08c73ddd-fcbf-47d0-e4f9-9001dcbf1b00",
        "colab": {
          "base_uri": "https://localhost:8080/",
          "height": 1000
        }
      },
      "source": [
        "# Data.world configuration\n",
        "!pip install datadotworld\n",
        "!pip install datadotworld[pandas]"
      ],
      "execution_count": 2,
      "outputs": [
        {
          "output_type": "stream",
          "text": [
            "Collecting datadotworld\n",
            "\u001b[?25l  Downloading https://files.pythonhosted.org/packages/eb/2d/564c9b9056c414528f7a91c48bc33f2243bd5323ac07d52269002bd3d6c6/datadotworld-1.7.0-py2.py3-none-any.whl (158kB)\n",
            "\u001b[K     |████████████████████████████████| 163kB 3.0MB/s \n",
            "\u001b[?25hRequirement already satisfied: python-dateutil<3.0a,>=2.6.0 in /usr/local/lib/python3.6/dist-packages (from datadotworld) (2.6.1)\n",
            "Requirement already satisfied: requests<3.0a,>=2.0.0 in /usr/local/lib/python3.6/dist-packages (from datadotworld) (2.21.0)\n",
            "Collecting tabulator>=1.22.0\n",
            "\u001b[?25l  Downloading https://files.pythonhosted.org/packages/56/5c/e57ce30b0751c9071f848e9eb3bda128a921fff13ea442fc1059206cceb2/tabulator-1.34.0-py2.py3-none-any.whl (65kB)\n",
            "\u001b[K     |████████████████████████████████| 71kB 8.6MB/s \n",
            "\u001b[?25hCollecting tableschema<2.0a,>=1.5.2\n",
            "\u001b[?25l  Downloading https://files.pythonhosted.org/packages/3c/a5/75ebdbf57b828edd1c7b059d3ff86b1c23d7bd69daae4c16199c124f4aa3/tableschema-1.12.5-py2.py3-none-any.whl (66kB)\n",
            "\u001b[K     |████████████████████████████████| 71kB 8.9MB/s \n",
            "\u001b[?25hRequirement already satisfied: six<2.0a,>=1.5.0 in /usr/local/lib/python3.6/dist-packages (from datadotworld) (1.12.0)\n",
            "Requirement already satisfied: urllib3<2.0a,>=1.15 in /usr/local/lib/python3.6/dist-packages (from datadotworld) (1.24.3)\n",
            "Requirement already satisfied: certifi>=2017.04.17 in /usr/local/lib/python3.6/dist-packages (from datadotworld) (2019.11.28)\n",
            "Collecting datapackage<2.0a,>=1.6.2\n",
            "\u001b[?25l  Downloading https://files.pythonhosted.org/packages/b8/75/0a2e0853116d2fe3f6422f7844129eba9939e54c530706d6116545438401/datapackage-1.11.1-py2.py3-none-any.whl (84kB)\n",
            "\u001b[K     |████████████████████████████████| 92kB 10.8MB/s \n",
            "\u001b[?25hCollecting configparser<4.0a,>=3.5.0\n",
            "  Downloading https://files.pythonhosted.org/packages/ab/1a/ec151e5e703ac80041eaccef923611bbcec2b667c20383655a06962732e9/configparser-3.8.1-py2.py3-none-any.whl\n",
            "Collecting click<7.0a,>=6.0\n",
            "\u001b[?25l  Downloading https://files.pythonhosted.org/packages/34/c1/8806f99713ddb993c5366c362b2f908f18269f8d792aff1abfd700775a77/click-6.7-py2.py3-none-any.whl (71kB)\n",
            "\u001b[K     |████████████████████████████████| 71kB 8.4MB/s \n",
            "\u001b[?25hRequirement already satisfied: idna<2.9,>=2.5 in /usr/local/lib/python3.6/dist-packages (from requests<3.0a,>=2.0.0->datadotworld) (2.8)\n",
            "Requirement already satisfied: chardet<3.1.0,>=3.0.2 in /usr/local/lib/python3.6/dist-packages (from requests<3.0a,>=2.0.0->datadotworld) (3.0.4)\n",
            "Collecting unicodecsv>=0.14\n",
            "  Downloading https://files.pythonhosted.org/packages/6f/a4/691ab63b17505a26096608cc309960b5a6bdf39e4ba1a793d5f9b1a53270/unicodecsv-0.14.1.tar.gz\n",
            "Collecting linear-tsv>=1.0\n",
            "  Downloading https://files.pythonhosted.org/packages/82/e5/03207a0f11e1d60df85b97b61704ed701b725a7c2feaf83f7bfbd0c2d83e/linear-tsv-1.1.0.tar.gz\n",
            "Collecting jsonlines>=1.1\n",
            "  Downloading https://files.pythonhosted.org/packages/4f/9a/ab96291470e305504aa4b7a2e0ec132e930da89eb3ca7a82fbe03167c131/jsonlines-1.2.0-py2.py3-none-any.whl\n",
            "Collecting cchardet>=1.0\n",
            "\u001b[?25l  Downloading https://files.pythonhosted.org/packages/fa/4e/847feebfc3e71c773b23ee06c74687b8c50a5a6d6aaff452a0a4f4eb9a32/cchardet-2.1.5-cp36-cp36m-manylinux1_x86_64.whl (241kB)\n",
            "\u001b[K     |████████████████████████████████| 245kB 34.5MB/s \n",
            "\u001b[?25hRequirement already satisfied: sqlalchemy>=0.9.6 in /usr/local/lib/python3.6/dist-packages (from tabulator>=1.22.0->datadotworld) (1.3.13)\n",
            "Requirement already satisfied: boto3>=1.9 in /usr/local/lib/python3.6/dist-packages (from tabulator>=1.22.0->datadotworld) (1.11.14)\n",
            "Requirement already satisfied: xlrd>=1.0 in /usr/local/lib/python3.6/dist-packages (from tabulator>=1.22.0->datadotworld) (1.1.0)\n",
            "Collecting openpyxl>=2.6\n",
            "\u001b[?25l  Downloading https://files.pythonhosted.org/packages/95/8c/83563c60489954e5b80f9e2596b93a68e1ac4e4a730deb1aae632066d704/openpyxl-3.0.3.tar.gz (172kB)\n",
            "\u001b[K     |████████████████████████████████| 174kB 46.2MB/s \n",
            "\u001b[?25hCollecting ijson>=2.5\n",
            "\u001b[?25l  Downloading https://files.pythonhosted.org/packages/23/42/2066f77a714ab7221542ea23710b35a96c5dd398f1933429088afd888293/ijson-2.6.1-cp36-cp36m-manylinux1_x86_64.whl (65kB)\n",
            "\u001b[K     |████████████████████████████████| 71kB 8.0MB/s \n",
            "\u001b[?25hRequirement already satisfied: jsonschema>=2.5 in /usr/local/lib/python3.6/dist-packages (from tableschema<2.0a,>=1.5.2->datadotworld) (2.6.0)\n",
            "Collecting isodate>=0.5.4\n",
            "\u001b[?25l  Downloading https://files.pythonhosted.org/packages/9b/9f/b36f7774ff5ea8e428fdcfc4bb332c39ee5b9362ddd3d40d9516a55221b2/isodate-0.6.0-py2.py3-none-any.whl (45kB)\n",
            "\u001b[K     |████████████████████████████████| 51kB 6.5MB/s \n",
            "\u001b[?25hCollecting rfc3986>=1.1.0\n",
            "  Downloading https://files.pythonhosted.org/packages/00/8d/9d56bfe43997f1864fe0891be69bc239ded98e69c9f56eb9eaa5b1789660/rfc3986-1.3.2-py2.py3-none-any.whl\n",
            "Collecting jsonpointer>=1.10\n",
            "  Downloading https://files.pythonhosted.org/packages/18/b0/a80d29577c08eea401659254dfaed87f1af45272899e1812d7e01b679bc5/jsonpointer-2.0-py2.py3-none-any.whl\n",
            "Requirement already satisfied: jmespath<1.0.0,>=0.7.1 in /usr/local/lib/python3.6/dist-packages (from boto3>=1.9->tabulator>=1.22.0->datadotworld) (0.9.4)\n",
            "Requirement already satisfied: botocore<1.15.0,>=1.14.14 in /usr/local/lib/python3.6/dist-packages (from boto3>=1.9->tabulator>=1.22.0->datadotworld) (1.14.14)\n",
            "Requirement already satisfied: s3transfer<0.4.0,>=0.3.0 in /usr/local/lib/python3.6/dist-packages (from boto3>=1.9->tabulator>=1.22.0->datadotworld) (0.3.3)\n",
            "Requirement already satisfied: jdcal in /usr/local/lib/python3.6/dist-packages (from openpyxl>=2.6->tabulator>=1.22.0->datadotworld) (1.4.1)\n",
            "Requirement already satisfied: et_xmlfile in /usr/local/lib/python3.6/dist-packages (from openpyxl>=2.6->tabulator>=1.22.0->datadotworld) (1.0.1)\n",
            "Requirement already satisfied: docutils<0.16,>=0.10 in /usr/local/lib/python3.6/dist-packages (from botocore<1.15.0,>=1.14.14->boto3>=1.9->tabulator>=1.22.0->datadotworld) (0.15.2)\n",
            "Building wheels for collected packages: unicodecsv, linear-tsv, openpyxl\n",
            "  Building wheel for unicodecsv (setup.py) ... \u001b[?25l\u001b[?25hdone\n",
            "  Created wheel for unicodecsv: filename=unicodecsv-0.14.1-cp36-none-any.whl size=10768 sha256=61cf772054642b42a40cbfd35558592f7dbb5de63a0845e81ad596db3dc77dcb\n",
            "  Stored in directory: /root/.cache/pip/wheels/a6/09/e9/e800279c98a0a8c94543f3de6c8a562f60e51363ed26e71283\n",
            "  Building wheel for linear-tsv (setup.py) ... \u001b[?25l\u001b[?25hdone\n",
            "  Created wheel for linear-tsv: filename=linear_tsv-1.1.0-cp36-none-any.whl size=7383 sha256=62bac174ab99b5790b78484532d8bb38cf068203744c5d085bdb844f22bb7bb9\n",
            "  Stored in directory: /root/.cache/pip/wheels/3f/8a/cb/38917fd1ef4356b9870ace7331b83417dc594bf2c029bd991f\n",
            "  Building wheel for openpyxl (setup.py) ... \u001b[?25l\u001b[?25hdone\n",
            "  Created wheel for openpyxl: filename=openpyxl-3.0.3-py2.py3-none-any.whl size=241262 sha256=22078648e11a97f34aa10fd0f4930ea7d718eaac8773b43a742b4d2a41a365b5\n",
            "  Stored in directory: /root/.cache/pip/wheels/b5/85/ca/e768ac132e57e75e645a151f8badac71cc0089e7225dddf76b\n",
            "Successfully built unicodecsv linear-tsv openpyxl\n",
            "Installing collected packages: unicodecsv, click, linear-tsv, jsonlines, cchardet, openpyxl, ijson, tabulator, isodate, rfc3986, tableschema, jsonpointer, datapackage, configparser, datadotworld\n",
            "  Found existing installation: Click 7.0\n",
            "    Uninstalling Click-7.0:\n",
            "      Successfully uninstalled Click-7.0\n",
            "  Found existing installation: openpyxl 2.5.9\n",
            "    Uninstalling openpyxl-2.5.9:\n",
            "      Successfully uninstalled openpyxl-2.5.9\n",
            "Successfully installed cchardet-2.1.5 click-6.7 configparser-3.8.1 datadotworld-1.7.0 datapackage-1.11.1 ijson-2.6.1 isodate-0.6.0 jsonlines-1.2.0 jsonpointer-2.0 linear-tsv-1.1.0 openpyxl-3.0.3 rfc3986-1.3.2 tableschema-1.12.5 tabulator-1.34.0 unicodecsv-0.14.1\n",
            "Requirement already satisfied: datadotworld[pandas] in /usr/local/lib/python3.6/dist-packages (1.7.0)\n",
            "Requirement already satisfied: python-dateutil<3.0a,>=2.6.0 in /usr/local/lib/python3.6/dist-packages (from datadotworld[pandas]) (2.6.1)\n",
            "Requirement already satisfied: datapackage<2.0a,>=1.6.2 in /usr/local/lib/python3.6/dist-packages (from datadotworld[pandas]) (1.11.1)\n",
            "Requirement already satisfied: configparser<4.0a,>=3.5.0 in /usr/local/lib/python3.6/dist-packages (from datadotworld[pandas]) (3.8.1)\n",
            "Requirement already satisfied: six<2.0a,>=1.5.0 in /usr/local/lib/python3.6/dist-packages (from datadotworld[pandas]) (1.12.0)\n",
            "Requirement already satisfied: click<7.0a,>=6.0 in /usr/local/lib/python3.6/dist-packages (from datadotworld[pandas]) (6.7)\n",
            "Requirement already satisfied: tableschema<2.0a,>=1.5.2 in /usr/local/lib/python3.6/dist-packages (from datadotworld[pandas]) (1.12.5)\n",
            "Requirement already satisfied: urllib3<2.0a,>=1.15 in /usr/local/lib/python3.6/dist-packages (from datadotworld[pandas]) (1.24.3)\n",
            "Requirement already satisfied: requests<3.0a,>=2.0.0 in /usr/local/lib/python3.6/dist-packages (from datadotworld[pandas]) (2.21.0)\n",
            "Requirement already satisfied: certifi>=2017.04.17 in /usr/local/lib/python3.6/dist-packages (from datadotworld[pandas]) (2019.11.28)\n",
            "Requirement already satisfied: tabulator>=1.22.0 in /usr/local/lib/python3.6/dist-packages (from datadotworld[pandas]) (1.34.0)\n",
            "Collecting pandas<0.25; extra == \"pandas\"\n",
            "\u001b[?25l  Downloading https://files.pythonhosted.org/packages/19/74/e50234bc82c553fecdbd566d8650801e3fe2d6d8c8d940638e3d8a7c5522/pandas-0.24.2-cp36-cp36m-manylinux1_x86_64.whl (10.1MB)\n",
            "\u001b[K     |████████████████████████████████| 10.1MB 2.9MB/s \n",
            "\u001b[?25hCollecting numpy<=1.16.4; extra == \"pandas\"\n",
            "\u001b[?25l  Downloading https://files.pythonhosted.org/packages/87/2d/e4656149cbadd3a8a0369fcd1a9c7d61cc7b87b3903b85389c70c989a696/numpy-1.16.4-cp36-cp36m-manylinux1_x86_64.whl (17.3MB)\n",
            "\u001b[K     |████████████████████████████████| 17.3MB 245kB/s \n",
            "\u001b[?25hRequirement already satisfied: unicodecsv>=0.14 in /usr/local/lib/python3.6/dist-packages (from datapackage<2.0a,>=1.6.2->datadotworld[pandas]) (0.14.1)\n",
            "Requirement already satisfied: cchardet>=1.0 in /usr/local/lib/python3.6/dist-packages (from datapackage<2.0a,>=1.6.2->datadotworld[pandas]) (2.1.5)\n",
            "Requirement already satisfied: jsonpointer>=1.10 in /usr/local/lib/python3.6/dist-packages (from datapackage<2.0a,>=1.6.2->datadotworld[pandas]) (2.0)\n",
            "Requirement already satisfied: jsonschema>=2.5 in /usr/local/lib/python3.6/dist-packages (from datapackage<2.0a,>=1.6.2->datadotworld[pandas]) (2.6.0)\n",
            "Requirement already satisfied: rfc3986>=1.1.0 in /usr/local/lib/python3.6/dist-packages (from tableschema<2.0a,>=1.5.2->datadotworld[pandas]) (1.3.2)\n",
            "Requirement already satisfied: isodate>=0.5.4 in /usr/local/lib/python3.6/dist-packages (from tableschema<2.0a,>=1.5.2->datadotworld[pandas]) (0.6.0)\n",
            "Requirement already satisfied: chardet<3.1.0,>=3.0.2 in /usr/local/lib/python3.6/dist-packages (from requests<3.0a,>=2.0.0->datadotworld[pandas]) (3.0.4)\n",
            "Requirement already satisfied: idna<2.9,>=2.5 in /usr/local/lib/python3.6/dist-packages (from requests<3.0a,>=2.0.0->datadotworld[pandas]) (2.8)\n",
            "Requirement already satisfied: linear-tsv>=1.0 in /usr/local/lib/python3.6/dist-packages (from tabulator>=1.22.0->datadotworld[pandas]) (1.1.0)\n",
            "Requirement already satisfied: boto3>=1.9 in /usr/local/lib/python3.6/dist-packages (from tabulator>=1.22.0->datadotworld[pandas]) (1.11.14)\n",
            "Requirement already satisfied: sqlalchemy>=0.9.6 in /usr/local/lib/python3.6/dist-packages (from tabulator>=1.22.0->datadotworld[pandas]) (1.3.13)\n",
            "Requirement already satisfied: xlrd>=1.0 in /usr/local/lib/python3.6/dist-packages (from tabulator>=1.22.0->datadotworld[pandas]) (1.1.0)\n",
            "Requirement already satisfied: openpyxl>=2.6 in /usr/local/lib/python3.6/dist-packages (from tabulator>=1.22.0->datadotworld[pandas]) (3.0.3)\n",
            "Requirement already satisfied: ijson>=2.5 in /usr/local/lib/python3.6/dist-packages (from tabulator>=1.22.0->datadotworld[pandas]) (2.6.1)\n",
            "Requirement already satisfied: jsonlines>=1.1 in /usr/local/lib/python3.6/dist-packages (from tabulator>=1.22.0->datadotworld[pandas]) (1.2.0)\n",
            "Requirement already satisfied: pytz>=2011k in /usr/local/lib/python3.6/dist-packages (from pandas<0.25; extra == \"pandas\"->datadotworld[pandas]) (2018.9)\n",
            "Requirement already satisfied: jmespath<1.0.0,>=0.7.1 in /usr/local/lib/python3.6/dist-packages (from boto3>=1.9->tabulator>=1.22.0->datadotworld[pandas]) (0.9.4)\n",
            "Requirement already satisfied: s3transfer<0.4.0,>=0.3.0 in /usr/local/lib/python3.6/dist-packages (from boto3>=1.9->tabulator>=1.22.0->datadotworld[pandas]) (0.3.3)\n",
            "Requirement already satisfied: botocore<1.15.0,>=1.14.14 in /usr/local/lib/python3.6/dist-packages (from boto3>=1.9->tabulator>=1.22.0->datadotworld[pandas]) (1.14.14)\n",
            "Requirement already satisfied: jdcal in /usr/local/lib/python3.6/dist-packages (from openpyxl>=2.6->tabulator>=1.22.0->datadotworld[pandas]) (1.4.1)\n",
            "Requirement already satisfied: et-xmlfile in /usr/local/lib/python3.6/dist-packages (from openpyxl>=2.6->tabulator>=1.22.0->datadotworld[pandas]) (1.0.1)\n",
            "Requirement already satisfied: docutils<0.16,>=0.10 in /usr/local/lib/python3.6/dist-packages (from botocore<1.15.0,>=1.14.14->boto3>=1.9->tabulator>=1.22.0->datadotworld[pandas]) (0.15.2)\n",
            "\u001b[31mERROR: plotnine 0.6.0 has requirement pandas>=0.25.0, but you'll have pandas 0.24.2 which is incompatible.\u001b[0m\n",
            "\u001b[31mERROR: mizani 0.6.0 has requirement pandas>=0.25.0, but you'll have pandas 0.24.2 which is incompatible.\u001b[0m\n",
            "\u001b[31mERROR: google-colab 1.0.0 has requirement pandas~=0.25.0; python_version >= \"3.0\", but you'll have pandas 0.24.2 which is incompatible.\u001b[0m\n",
            "\u001b[31mERROR: datascience 0.10.6 has requirement folium==0.2.1, but you'll have folium 0.8.3 which is incompatible.\u001b[0m\n",
            "\u001b[31mERROR: albumentations 0.1.12 has requirement imgaug<0.2.7,>=0.2.5, but you'll have imgaug 0.2.9 which is incompatible.\u001b[0m\n",
            "Installing collected packages: numpy, pandas\n",
            "  Found existing installation: numpy 1.17.5\n",
            "    Uninstalling numpy-1.17.5:\n",
            "      Successfully uninstalled numpy-1.17.5\n",
            "  Found existing installation: pandas 0.25.3\n",
            "    Uninstalling pandas-0.25.3:\n",
            "      Successfully uninstalled pandas-0.25.3\n",
            "Successfully installed numpy-1.16.4 pandas-0.24.2\n"
          ],
          "name": "stdout"
        },
        {
          "output_type": "display_data",
          "data": {
            "application/vnd.colab-display-data+json": {
              "pip_warning": {
                "packages": [
                  "numpy",
                  "pandas"
                ]
              }
            }
          },
          "metadata": {
            "tags": []
          }
        }
      ]
    },
    {
      "cell_type": "code",
      "metadata": {
        "colab_type": "code",
        "id": "7TrQsPMZUYF7",
        "colab": {}
      },
      "source": [
        "# !dw configure"
      ],
      "execution_count": 0,
      "outputs": []
    },
    {
      "cell_type": "code",
      "metadata": {
        "id": "SMlPnNPaBJsA",
        "colab_type": "code",
        "colab": {}
      },
      "source": [
        "# Importing libraries\n",
        "from google.colab import drive\n",
        "import pandas as pd\n",
        "import numpy as np\n",
        "\n",
        "#Importing data.world library\n",
        "import datadotworld as dw"
      ],
      "execution_count": 0,
      "outputs": []
    },
    {
      "cell_type": "code",
      "metadata": {
        "id": "aoJtmUbjBRaP",
        "colab_type": "code",
        "colab": {}
      },
      "source": [
        "# Linking Colab to Google Drive\n",
        "drive.mount(\"/content/drive\")"
      ],
      "execution_count": 0,
      "outputs": []
    },
    {
      "cell_type": "code",
      "metadata": {
        "id": "UOnefTejBVMJ",
        "colab_type": "code",
        "outputId": "7a82dcb7-5162-4ab3-ec44-c28b04393a21",
        "colab": {
          "base_uri": "https://localhost:8080/",
          "height": 34
        }
      },
      "source": [
        "cd drive"
      ],
      "execution_count": 0,
      "outputs": [
        {
          "output_type": "stream",
          "text": [
            "/content/drive\n"
          ],
          "name": "stdout"
        }
      ]
    },
    {
      "cell_type": "code",
      "metadata": {
        "id": "nFjbF-bICJ59",
        "colab_type": "code",
        "outputId": "17214d29-eff1-423b-f441-00ae22365219",
        "colab": {
          "base_uri": "https://localhost:8080/",
          "height": 34
        }
      },
      "source": [
        "cd \"My Drive/Colab Notebooks/dataworkshop_matrix\""
      ],
      "execution_count": 0,
      "outputs": [
        {
          "output_type": "stream",
          "text": [
            "/content/drive/My Drive/Colab Notebooks/dataworkshop_matrix\n"
          ],
          "name": "stdout"
        }
      ]
    },
    {
      "cell_type": "code",
      "metadata": {
        "id": "_CZ7gzjwCcuI",
        "colab_type": "code",
        "outputId": "ea7fd298-75ec-4be9-ecb3-dc91586adc6c",
        "colab": {
          "base_uri": "https://localhost:8080/",
          "height": 34
        }
      },
      "source": [
        "ls"
      ],
      "execution_count": 0,
      "outputs": [
        {
          "output_type": "stream",
          "text": [
            "ColabDriveGithub.ipynb  HelloGithub.ipynb  LICENSE  \u001b[0m\u001b[01;34mMatrix_part1\u001b[0m/  README.md\n"
          ],
          "name": "stdout"
        }
      ]
    },
    {
      "cell_type": "code",
      "metadata": {
        "id": "4EX-fPmkCeXp",
        "colab_type": "code",
        "colab": {}
      },
      "source": [
        "# Adding data.world dataset to gitignore\n",
        "!mkdir data"
      ],
      "execution_count": 0,
      "outputs": []
    },
    {
      "cell_type": "code",
      "metadata": {
        "id": "1ECSgRv6Cz8m",
        "colab_type": "code",
        "colab": {}
      },
      "source": [
        "!echo 'data' > .gitignore"
      ],
      "execution_count": 0,
      "outputs": []
    },
    {
      "cell_type": "code",
      "metadata": {
        "id": "BzsaCrKsC4lY",
        "colab_type": "code",
        "colab": {}
      },
      "source": [
        "!git add .gitignore"
      ],
      "execution_count": 0,
      "outputs": []
    },
    {
      "cell_type": "code",
      "metadata": {
        "id": "GUFnFLeSD42c",
        "colab_type": "code",
        "colab": {}
      },
      "source": [
        "# Loading dataset from data.world\n",
        "data = dw.load_dataset('datafiniti/mens-shoe-prices')"
      ],
      "execution_count": 0,
      "outputs": []
    },
    {
      "cell_type": "code",
      "metadata": {
        "id": "JIiZa6C5EHg7",
        "colab_type": "code",
        "outputId": "3606db66-67c5-4344-de74-82b6b6e6a44f",
        "colab": {
          "base_uri": "https://localhost:8080/",
          "height": 34
        }
      },
      "source": [
        "data"
      ],
      "execution_count": 0,
      "outputs": [
        {
          "output_type": "execute_result",
          "data": {
            "text/plain": [
              "LocalDataset('/root/.dw/cache/datafiniti/mens-shoe-prices/latest/datapackage.json')"
            ]
          },
          "metadata": {
            "tags": []
          },
          "execution_count": 18
        }
      ]
    },
    {
      "cell_type": "code",
      "metadata": {
        "id": "CM1Xv8kcEJhX",
        "colab_type": "code",
        "outputId": "dd46c96a-ef8b-4a39-9dac-def92839446c",
        "colab": {
          "base_uri": "https://localhost:8080/",
          "height": 34
        }
      },
      "source": [
        "data.dataframes"
      ],
      "execution_count": 0,
      "outputs": [
        {
          "output_type": "execute_result",
          "data": {
            "text/plain": [
              "LazyLoadedDict({'7004_1': LazyLoadedValue(<pandas.DataFrame>)})"
            ]
          },
          "metadata": {
            "tags": []
          },
          "execution_count": 19
        }
      ]
    },
    {
      "cell_type": "code",
      "metadata": {
        "id": "aE0esvstENlW",
        "colab_type": "code",
        "outputId": "984817a2-bb89-4d66-ae10-2c09e08ae6b3",
        "colab": {
          "base_uri": "https://localhost:8080/",
          "height": 104
        }
      },
      "source": [
        "df = data.dataframes['7004_1']"
      ],
      "execution_count": 0,
      "outputs": [
        {
          "output_type": "stream",
          "text": [
            "/usr/local/lib/python3.6/dist-packages/datadotworld/models/dataset.py:209: UserWarning: Unable to set data frame dtypes automatically using 7004_1 schema. Data types may need to be adjusted manually. Error: Integer column has NA values in column 10\n",
            "  'Error: {}'.format(resource_name, e))\n",
            "/usr/local/lib/python3.6/dist-packages/datadotworld/util.py:121: DtypeWarning: Columns (39,45) have mixed types. Specify dtype option on import or set low_memory=False.\n",
            "  return self._loader_func()\n"
          ],
          "name": "stderr"
        }
      ]
    },
    {
      "cell_type": "code",
      "metadata": {
        "id": "tUevJ4ZzEUIw",
        "colab_type": "code",
        "outputId": "d701e9f5-f168-4559-d146-3a53a716527d",
        "colab": {
          "base_uri": "https://localhost:8080/",
          "height": 34
        }
      },
      "source": [
        "df.shape"
      ],
      "execution_count": 0,
      "outputs": [
        {
          "output_type": "execute_result",
          "data": {
            "text/plain": [
              "(19387, 48)"
            ]
          },
          "metadata": {
            "tags": []
          },
          "execution_count": 21
        }
      ]
    },
    {
      "cell_type": "code",
      "metadata": {
        "id": "ZQez60_yEWAS",
        "colab_type": "code",
        "outputId": "2c4dd861-781c-4422-8666-20afe4db7c67",
        "colab": {
          "base_uri": "https://localhost:8080/",
          "height": 585
        }
      },
      "source": [
        "df.sample(5)"
      ],
      "execution_count": 0,
      "outputs": [
        {
          "output_type": "execute_result",
          "data": {
            "text/html": [
              "<div>\n",
              "<style scoped>\n",
              "    .dataframe tbody tr th:only-of-type {\n",
              "        vertical-align: middle;\n",
              "    }\n",
              "\n",
              "    .dataframe tbody tr th {\n",
              "        vertical-align: top;\n",
              "    }\n",
              "\n",
              "    .dataframe thead th {\n",
              "        text-align: right;\n",
              "    }\n",
              "</style>\n",
              "<table border=\"1\" class=\"dataframe\">\n",
              "  <thead>\n",
              "    <tr style=\"text-align: right;\">\n",
              "      <th></th>\n",
              "      <th>id</th>\n",
              "      <th>asins</th>\n",
              "      <th>brand</th>\n",
              "      <th>categories</th>\n",
              "      <th>colors</th>\n",
              "      <th>count</th>\n",
              "      <th>dateadded</th>\n",
              "      <th>dateupdated</th>\n",
              "      <th>descriptions</th>\n",
              "      <th>dimension</th>\n",
              "      <th>ean</th>\n",
              "      <th>features</th>\n",
              "      <th>flavors</th>\n",
              "      <th>imageurls</th>\n",
              "      <th>isbn</th>\n",
              "      <th>keys</th>\n",
              "      <th>manufacturer</th>\n",
              "      <th>manufacturernumber</th>\n",
              "      <th>merchants</th>\n",
              "      <th>name</th>\n",
              "      <th>prices_amountmin</th>\n",
              "      <th>prices_amountmax</th>\n",
              "      <th>prices_availability</th>\n",
              "      <th>prices_color</th>\n",
              "      <th>prices_condition</th>\n",
              "      <th>prices_count</th>\n",
              "      <th>prices_currency</th>\n",
              "      <th>prices_dateadded</th>\n",
              "      <th>prices_dateseen</th>\n",
              "      <th>prices_flavor</th>\n",
              "      <th>prices_issale</th>\n",
              "      <th>prices_merchant</th>\n",
              "      <th>prices_offer</th>\n",
              "      <th>prices_returnpolicy</th>\n",
              "      <th>prices_shipping</th>\n",
              "      <th>prices_size</th>\n",
              "      <th>prices_source</th>\n",
              "      <th>prices_sourceurls</th>\n",
              "      <th>prices_warranty</th>\n",
              "      <th>quantities</th>\n",
              "      <th>reviews</th>\n",
              "      <th>sizes</th>\n",
              "      <th>skus</th>\n",
              "      <th>sourceurls</th>\n",
              "      <th>upc</th>\n",
              "      <th>vin</th>\n",
              "      <th>websiteids</th>\n",
              "      <th>weight</th>\n",
              "    </tr>\n",
              "  </thead>\n",
              "  <tbody>\n",
              "    <tr>\n",
              "      <th>6116</th>\n",
              "      <td>AVpfFXHmLJeJML432B7M</td>\n",
              "      <td>NaN</td>\n",
              "      <td>Justin Boots</td>\n",
              "      <td>Men's Boots,Shoes,Clothing, Shoes &amp; Jewelry,Me...</td>\n",
              "      <td>Bay</td>\n",
              "      <td>NaN</td>\n",
              "      <td>2016-01-02T02:40:11Z</td>\n",
              "      <td>2016-03-30T21:16:33Z</td>\n",
              "      <td>NaN</td>\n",
              "      <td>NaN</td>\n",
              "      <td>NaN</td>\n",
              "      <td>NaN</td>\n",
              "      <td>NaN</td>\n",
              "      <td>http://c.shld.net/rpx/i/s/pi/mp/11862/prod_383...</td>\n",
              "      <td>NaN</td>\n",
              "      <td>justinboots/174445</td>\n",
              "      <td>NaN</td>\n",
              "      <td>17-4445</td>\n",
              "      <td>NaN</td>\n",
              "      <td>Justin Boots Work Boots Mens J-max Rugged Gauc...</td>\n",
              "      <td>194.95</td>\n",
              "      <td>194.95</td>\n",
              "      <td>NaN</td>\n",
              "      <td>NaN</td>\n",
              "      <td>NaN</td>\n",
              "      <td>NaN</td>\n",
              "      <td>USD</td>\n",
              "      <td>2016-01-02T02:40:11Z</td>\n",
              "      <td>2016-03-30T00:00:00Z</td>\n",
              "      <td>NaN</td>\n",
              "      <td>true</td>\n",
              "      <td>Sears.com</td>\n",
              "      <td>NaN</td>\n",
              "      <td>NaN</td>\n",
              "      <td>NaN</td>\n",
              "      <td>NaN</td>\n",
              "      <td>NaN</td>\n",
              "      <td>http://www.sears.com/content/pdp/products/pric...</td>\n",
              "      <td>NaN</td>\n",
              "      <td>NaN</td>\n",
              "      <td>NaN</td>\n",
              "      <td>10.5,10,8.5,6,9.5,6.5,11.5,9,8,11,12</td>\n",
              "      <td>[{\"sourceURLs\":[\"http://www.sears.com/content/...</td>\n",
              "      <td>http://www.sears.com/content/pdp/products/pric...</td>\n",
              "      <td>NaN</td>\n",
              "      <td>NaN</td>\n",
              "      <td>NaN</td>\n",
              "      <td>NaN</td>\n",
              "    </tr>\n",
              "    <tr>\n",
              "      <th>4279</th>\n",
              "      <td>AVpe8J721cnluZ0-aTdu</td>\n",
              "      <td>NaN</td>\n",
              "      <td>Jewelry Adviser Gifts</td>\n",
              "      <td>Jewelry,Fashion Jewelry,Fashion Rings,Clothing...</td>\n",
              "      <td>NaN</td>\n",
              "      <td>NaN</td>\n",
              "      <td>2016-03-11T08:19:53Z</td>\n",
              "      <td>2016-03-15T23:07:01Z</td>\n",
              "      <td>NaN</td>\n",
              "      <td>1 in x 1 in x 1 in</td>\n",
              "      <td>NaN</td>\n",
              "      <td>NaN</td>\n",
              "      <td>NaN</td>\n",
              "      <td>http://c.shld.net/rpx/i/s/pi/mp/6140/prod_2787...</td>\n",
              "      <td>NaN</td>\n",
              "      <td>jewelryadvisergiftssolarpoweredwindturbinealar...</td>\n",
              "      <td>NaN</td>\n",
              "      <td>GM13869</td>\n",
              "      <td>NaN</td>\n",
              "      <td>Jewelry Adviser Gifts Solar Powered Wind Turbi...</td>\n",
              "      <td>48.83</td>\n",
              "      <td>48.83</td>\n",
              "      <td>NaN</td>\n",
              "      <td>NaN</td>\n",
              "      <td>NaN</td>\n",
              "      <td>NaN</td>\n",
              "      <td>USD</td>\n",
              "      <td>2016-03-11T08:19:53Z</td>\n",
              "      <td>2016-03-14T00:00:00Z</td>\n",
              "      <td>NaN</td>\n",
              "      <td>true</td>\n",
              "      <td>JewelryAdviser</td>\n",
              "      <td>NaN</td>\n",
              "      <td>NaN</td>\n",
              "      <td>NaN</td>\n",
              "      <td>NaN</td>\n",
              "      <td>NaN</td>\n",
              "      <td>http://www.sears.com/content/pdp/products/pric...</td>\n",
              "      <td>NaN</td>\n",
              "      <td>NaN</td>\n",
              "      <td>NaN</td>\n",
              "      <td>NaN</td>\n",
              "      <td>[{\"sourceURLs\":[\"http://www.sears.com/content/...</td>\n",
              "      <td>http://www.sears.com/content/pdp/products/pric...</td>\n",
              "      <td>NaN</td>\n",
              "      <td>NaN</td>\n",
              "      <td>NaN</td>\n",
              "      <td>NaN</td>\n",
              "    </tr>\n",
              "    <tr>\n",
              "      <th>13306</th>\n",
              "      <td>AVpfmgFmLJeJML43AP35</td>\n",
              "      <td>NaN</td>\n",
              "      <td>New Balance</td>\n",
              "      <td>All Men's Shoes,Shoes,Men's Shoes,Clothing</td>\n",
              "      <td>NaN</td>\n",
              "      <td>NaN</td>\n",
              "      <td>2016-11-06T23:58:14Z</td>\n",
              "      <td>2016-11-06T23:58:14Z</td>\n",
              "      <td>[{\"dateSeen\":[\"2016-11-06T23:58:14Z\"],\"sourceU...</td>\n",
              "      <td>NaN</td>\n",
              "      <td>8.899692e+11</td>\n",
              "      <td>[{\"key\":\"Material\",\"value\":[\"Synthetic\"]},{\"ke...</td>\n",
              "      <td>NaN</td>\n",
              "      <td>https://i5.walmartimages.com/asr/0c172f55-e628...</td>\n",
              "      <td>NaN</td>\n",
              "      <td>newbalance/ml574sib,889969168019,0889969168019</td>\n",
              "      <td>New Balance</td>\n",
              "      <td>ML574SIB</td>\n",
              "      <td>[{\"dateSeen\":[\"2016-11-06T23:58:14Z\"],\"name\":\"...</td>\n",
              "      <td>New Balance Ml574 Men  Round Toe Synthetic Bla...</td>\n",
              "      <td>75.00</td>\n",
              "      <td>75.00</td>\n",
              "      <td>NaN</td>\n",
              "      <td>NaN</td>\n",
              "      <td>new</td>\n",
              "      <td>NaN</td>\n",
              "      <td>USD</td>\n",
              "      <td>2016-11-06T23:58:14Z</td>\n",
              "      <td>2016-11-05T00:00:00Z</td>\n",
              "      <td>NaN</td>\n",
              "      <td>false</td>\n",
              "      <td>ApparelSave - Walmart.com</td>\n",
              "      <td>NaN</td>\n",
              "      <td>NaN</td>\n",
              "      <td>NaN</td>\n",
              "      <td>NaN</td>\n",
              "      <td>NaN</td>\n",
              "      <td>https://www.walmart.com/ip/New-Balance-ML574-M...</td>\n",
              "      <td>NaN</td>\n",
              "      <td>NaN</td>\n",
              "      <td>NaN</td>\n",
              "      <td>10.5,10,8.5,9.5,9,8,11</td>\n",
              "      <td>NaN</td>\n",
              "      <td>https://www.walmart.com/ip/New-Balance-ML574-M...</td>\n",
              "      <td>889969168019</td>\n",
              "      <td>NaN</td>\n",
              "      <td>NaN</td>\n",
              "      <td>NaN</td>\n",
              "    </tr>\n",
              "    <tr>\n",
              "      <th>8402</th>\n",
              "      <td>AVpfLNgeilAPnD_xWitt</td>\n",
              "      <td>NaN</td>\n",
              "      <td>Rock Revival</td>\n",
              "      <td>Clothing, Shoes &amp; Accessories,Men's Clothing,J...</td>\n",
              "      <td>Military</td>\n",
              "      <td>NaN</td>\n",
              "      <td>2016-08-01T01:24:50Z</td>\n",
              "      <td>2016-10-05T15:21:58Z</td>\n",
              "      <td>[{\"dateSeen\":[\"2016-08-23T11:50:58Z\"],\"sourceU...</td>\n",
              "      <td>NaN</td>\n",
              "      <td>6.890047e+11</td>\n",
              "      <td>[{\"key\":\"Inseam\",\"value\":[\"34\"]},{\"key\":\"Condi...</td>\n",
              "      <td>NaN</td>\n",
              "      <td>http://i.ebayimg.com/images/g/nLcAAOSwgY9XdbDC...</td>\n",
              "      <td>NaN</td>\n",
              "      <td>689004659171,0689004659171,200rockrevivalmensj...</td>\n",
              "      <td>NaN</td>\n",
              "      <td>NaN</td>\n",
              "      <td>[{\"dateSeen\":[\"2016-10-04T00:00:00Z\"],\"name\":\"...</td>\n",
              "      <td>$200 Rock Revival Men's Jeans Rp9931a200 Teles...</td>\n",
              "      <td>96.00</td>\n",
              "      <td>96.00</td>\n",
              "      <td>NaN</td>\n",
              "      <td>NaN</td>\n",
              "      <td>New with tags</td>\n",
              "      <td>NaN</td>\n",
              "      <td>USD</td>\n",
              "      <td>2016-08-01T01:24:50Z</td>\n",
              "      <td>2016-07-08T00:00:00Z</td>\n",
              "      <td>NaN</td>\n",
              "      <td>false</td>\n",
              "      <td>NaN</td>\n",
              "      <td>winning bid</td>\n",
              "      <td>NaN</td>\n",
              "      <td>FREE</td>\n",
              "      <td>NaN</td>\n",
              "      <td>NaN</td>\n",
              "      <td>http://www.ebay.com/itm/200-Rock-Revival-Mens-...</td>\n",
              "      <td>NaN</td>\n",
              "      <td>NaN</td>\n",
              "      <td>NaN</td>\n",
              "      <td>NaN</td>\n",
              "      <td>[{\"sourceURLs\":[\"http://www.ebay.com/itm/200-R...</td>\n",
              "      <td>http://www.ebay.com/itm/200-Rock-Revival-Mens-...</td>\n",
              "      <td>689004659171</td>\n",
              "      <td>NaN</td>\n",
              "      <td>NaN</td>\n",
              "      <td>NaN</td>\n",
              "    </tr>\n",
              "    <tr>\n",
              "      <th>7141</th>\n",
              "      <td>AVpfWQl7ilAPnD_xaIDT</td>\n",
              "      <td>NaN</td>\n",
              "      <td>Fossa Apparel</td>\n",
              "      <td>Clothing, Shoes &amp; Jewelry,Clothing,Men's Cloth...</td>\n",
              "      <td>NaN</td>\n",
              "      <td>NaN</td>\n",
              "      <td>2016-03-22T00:25:26Z</td>\n",
              "      <td>2016-03-25T06:03:17Z</td>\n",
              "      <td>NaN</td>\n",
              "      <td>5 in x 10 in x 10 in</td>\n",
              "      <td>NaN</td>\n",
              "      <td>NaN</td>\n",
              "      <td>NaN</td>\n",
              "      <td>http://c.shld.net/rpx/i/s/pi/mp/1363/prod_2314...</td>\n",
              "      <td>NaN</td>\n",
              "      <td>fossaapparel/9920chocolate3xl,fossaapparel9920...</td>\n",
              "      <td>NaN</td>\n",
              "      <td>9920-chocolate-3XL</td>\n",
              "      <td>NaN</td>\n",
              "      <td>Fossa Apparel 9920-chocolate-3xl 3x-large Harb...</td>\n",
              "      <td>84.29</td>\n",
              "      <td>84.29</td>\n",
              "      <td>NaN</td>\n",
              "      <td>NaN</td>\n",
              "      <td>NaN</td>\n",
              "      <td>NaN</td>\n",
              "      <td>USD</td>\n",
              "      <td>2016-03-22T00:25:26Z</td>\n",
              "      <td>2016-03-22T00:00:00Z</td>\n",
              "      <td>NaN</td>\n",
              "      <td>false</td>\n",
              "      <td>UnbeatableSale.com, Inc.</td>\n",
              "      <td>NaN</td>\n",
              "      <td>NaN</td>\n",
              "      <td>NaN</td>\n",
              "      <td>NaN</td>\n",
              "      <td>NaN</td>\n",
              "      <td>http://www.sears.com/content/pdp/products/pric...</td>\n",
              "      <td>NaN</td>\n",
              "      <td>NaN</td>\n",
              "      <td>NaN</td>\n",
              "      <td>NaN</td>\n",
              "      <td>[{\"sourceURLs\":[\"http://www.sears.com/content/...</td>\n",
              "      <td>http://www.sears.com/content/pdp/products/pric...</td>\n",
              "      <td>NaN</td>\n",
              "      <td>NaN</td>\n",
              "      <td>NaN</td>\n",
              "      <td>NaN</td>\n",
              "    </tr>\n",
              "  </tbody>\n",
              "</table>\n",
              "</div>"
            ],
            "text/plain": [
              "                         id asins                  brand  ...  vin websiteids  weight\n",
              "6116   AVpfFXHmLJeJML432B7M   NaN           Justin Boots  ...  NaN        NaN     NaN\n",
              "4279   AVpe8J721cnluZ0-aTdu   NaN  Jewelry Adviser Gifts  ...  NaN        NaN     NaN\n",
              "13306  AVpfmgFmLJeJML43AP35   NaN            New Balance  ...  NaN        NaN     NaN\n",
              "8402   AVpfLNgeilAPnD_xWitt   NaN           Rock Revival  ...  NaN        NaN     NaN\n",
              "7141   AVpfWQl7ilAPnD_xaIDT   NaN          Fossa Apparel  ...  NaN        NaN     NaN\n",
              "\n",
              "[5 rows x 48 columns]"
            ]
          },
          "metadata": {
            "tags": []
          },
          "execution_count": 24
        }
      ]
    },
    {
      "cell_type": "code",
      "metadata": {
        "id": "V690_cFVFA6a",
        "colab_type": "code",
        "outputId": "2e24c356-62c4-4995-f2a8-56d161798e80",
        "colab": {
          "base_uri": "https://localhost:8080/",
          "height": 101
        }
      },
      "source": [
        "# unikalne etykiety dla prices_currency\n",
        "df.prices_currency.unique()"
      ],
      "execution_count": 0,
      "outputs": [
        {
          "output_type": "execute_result",
          "data": {
            "text/plain": [
              "array(['USD', 'AUD', 'CAD', 'EUR', nan, 'GBP', 'New with box',\n",
              "       'UnbeatableSale.com, Inc. - Walmart.com',\n",
              "       'PalmBeach Jewelry - Walmart.com', 'new', 'New without tags',\n",
              "       'SHOEBACCA LTD. - Walmart.com', 'Shoes.com',\n",
              "       'Wholesale Costume and Party Supplies - Walmart.com'], dtype=object)"
            ]
          },
          "metadata": {
            "tags": []
          },
          "execution_count": 25
        }
      ]
    },
    {
      "cell_type": "code",
      "metadata": {
        "id": "bELwgXSOFE_U",
        "colab_type": "code",
        "outputId": "b90227c9-f1c6-49a0-c519-97d68a934fdb",
        "colab": {
          "base_uri": "https://localhost:8080/",
          "height": 252
        }
      },
      "source": [
        "df.prices_currency.value_counts()"
      ],
      "execution_count": 0,
      "outputs": [
        {
          "output_type": "execute_result",
          "data": {
            "text/plain": [
              "USD                                                   18524\n",
              "AUD                                                     338\n",
              "CAD                                                     303\n",
              "EUR                                                     107\n",
              "GBP                                                      22\n",
              "UnbeatableSale.com, Inc. - Walmart.com                    3\n",
              "PalmBeach Jewelry - Walmart.com                           3\n",
              "new                                                       3\n",
              "New with box                                              3\n",
              "Wholesale Costume and Party Supplies - Walmart.com        2\n",
              "New without tags                                          1\n",
              "Shoes.com                                                 1\n",
              "SHOEBACCA LTD. - Walmart.com                              1\n",
              "Name: prices_currency, dtype: int64"
            ]
          },
          "metadata": {
            "tags": []
          },
          "execution_count": 26
        }
      ]
    },
    {
      "cell_type": "code",
      "metadata": {
        "id": "97jJanYtFXls",
        "colab_type": "code",
        "outputId": "5cd9004d-55ad-4f8d-8940-4da21e5313b6",
        "colab": {
          "base_uri": "https://localhost:8080/",
          "height": 252
        }
      },
      "source": [
        "df.prices_currency.value_counts(normalize=True)"
      ],
      "execution_count": 0,
      "outputs": [
        {
          "output_type": "execute_result",
          "data": {
            "text/plain": [
              "USD                                                   0.959246\n",
              "AUD                                                   0.017503\n",
              "CAD                                                   0.015691\n",
              "EUR                                                   0.005541\n",
              "GBP                                                   0.001139\n",
              "UnbeatableSale.com, Inc. - Walmart.com                0.000155\n",
              "PalmBeach Jewelry - Walmart.com                       0.000155\n",
              "new                                                   0.000155\n",
              "New with box                                          0.000155\n",
              "Wholesale Costume and Party Supplies - Walmart.com    0.000104\n",
              "New without tags                                      0.000052\n",
              "Shoes.com                                             0.000052\n",
              "SHOEBACCA LTD. - Walmart.com                          0.000052\n",
              "Name: prices_currency, dtype: float64"
            ]
          },
          "metadata": {
            "tags": []
          },
          "execution_count": 27
        }
      ]
    },
    {
      "cell_type": "code",
      "metadata": {
        "id": "UKsFgOhMFikM",
        "colab_type": "code",
        "colab": {}
      },
      "source": [
        "df_usd = df[ df.prices_currency == 'USD' ].copy()"
      ],
      "execution_count": 0,
      "outputs": []
    },
    {
      "cell_type": "code",
      "metadata": {
        "id": "b913lMYnFw5V",
        "colab_type": "code",
        "outputId": "58745c8c-58df-4abd-99a7-05210acf77eb",
        "colab": {
          "base_uri": "https://localhost:8080/",
          "height": 34
        }
      },
      "source": [
        "df_usd.shape"
      ],
      "execution_count": 0,
      "outputs": [
        {
          "output_type": "execute_result",
          "data": {
            "text/plain": [
              "(18524, 48)"
            ]
          },
          "metadata": {
            "tags": []
          },
          "execution_count": 30
        }
      ]
    },
    {
      "cell_type": "code",
      "metadata": {
        "id": "-k8uLcSQFyXV",
        "colab_type": "code",
        "outputId": "28150dbf-6f1a-41f3-fc1d-5a2fd3b5ceec",
        "colab": {
          "base_uri": "https://localhost:8080/",
          "height": 282
        }
      },
      "source": [
        "df_usd['prices_amountmin'] = df_usd.prices_amountmin.astype(np.float)\n",
        "df_usd['prices_amountmin'].hist()"
      ],
      "execution_count": 0,
      "outputs": [
        {
          "output_type": "execute_result",
          "data": {
            "text/plain": [
              "<matplotlib.axes._subplots.AxesSubplot at 0x7f1b087ee2e8>"
            ]
          },
          "metadata": {
            "tags": []
          },
          "execution_count": 31
        },
        {
          "output_type": "display_data",
          "data": {
            "image/png": "[encoded data removed]",
            "text/plain": [
              "<Figure size 432x288 with 1 Axes>"
            ]
          },
          "metadata": {
            "tags": []
          }
        }
      ]
    },
    {
      "cell_type": "code",
      "metadata": {
        "id": "U7iE-7K-GOOk",
        "colab_type": "code",
        "outputId": "50107727-fb3b-41a1-bae7-57908291d08e",
        "colab": {
          "base_uri": "https://localhost:8080/",
          "height": 34
        }
      },
      "source": [
        "# we can obsereve on the histogram the statistical outliers - shoes that cost 17500 USD\n",
        "# clearing the statistical outliers by cutting the outlier - 1%:\n",
        "filter_max = np.percentile( df_usd['prices_amountmin'], 99 )\n",
        "filter_max"
      ],
      "execution_count": 0,
      "outputs": [
        {
          "output_type": "execute_result",
          "data": {
            "text/plain": [
              "895.0"
            ]
          },
          "metadata": {
            "tags": []
          },
          "execution_count": 34
        }
      ]
    },
    {
      "cell_type": "code",
      "metadata": {
        "id": "cx9ra2bqHBye",
        "colab_type": "code",
        "colab": {}
      },
      "source": [
        "# 99% of shoes cost 895 USD or less\n",
        "df_usd_filter = df_usd[ df_usd['prices_amountmin'] < filter_max ]"
      ],
      "execution_count": 0,
      "outputs": []
    },
    {
      "cell_type": "code",
      "metadata": {
        "id": "IC60Jjq7H7aF",
        "colab_type": "code",
        "outputId": "9887851b-cb0d-4df5-d207-02761061b86c",
        "colab": {
          "base_uri": "https://localhost:8080/",
          "height": 282
        }
      },
      "source": [
        "df_usd_filter.prices_amountmin.hist()"
      ],
      "execution_count": 0,
      "outputs": [
        {
          "output_type": "execute_result",
          "data": {
            "text/plain": [
              "<matplotlib.axes._subplots.AxesSubplot at 0x7f1b09b7ea58>"
            ]
          },
          "metadata": {
            "tags": []
          },
          "execution_count": 36
        },
        {
          "output_type": "display_data",
          "data": {
            "image/png": "[encoded data removed]",
            "text/plain": [
              "<Figure size 432x288 with 1 Axes>"
            ]
          },
          "metadata": {
            "tags": []
          }
        }
      ]
    },
    {
      "cell_type": "code",
      "metadata": {
        "id": "RMnA9FHtIAr5",
        "colab_type": "code",
        "outputId": "db572e74-a2f3-4905-d2ef-0de98108efe1",
        "colab": {
          "base_uri": "https://localhost:8080/",
          "height": 282
        }
      },
      "source": [
        "# splitting by 100 bins (every 900/100 = 9 USD)\n",
        "df_usd_filter.prices_amountmin.hist(bins=100)"
      ],
      "execution_count": 0,
      "outputs": [
        {
          "output_type": "execute_result",
          "data": {
            "text/plain": [
              "<matplotlib.axes._subplots.AxesSubplot at 0x7f1b069d1ac8>"
            ]
          },
          "metadata": {
            "tags": []
          },
          "execution_count": 37
        },
        {
          "output_type": "display_data",
          "data": {
            "image/png": "[encoded data removed]",
            "text/plain": [
              "<Figure size 432x288 with 1 Axes>"
            ]
          },
          "metadata": {
            "tags": []
          }
        }
      ]
    }
  ]
}