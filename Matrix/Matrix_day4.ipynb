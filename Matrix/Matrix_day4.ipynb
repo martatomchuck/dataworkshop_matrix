{
  "nbformat": 4,
  "nbformat_minor": 0,
  "metadata": {
    "colab": {
      "name": "Matrix_day4.ipynb",
      "provenance": [],
      "collapsed_sections": []
    },
    "kernelspec": {
      "name": "python3",
      "display_name": "Python 3"
    }
  },
  "cells": [
    {
      "cell_type": "code",
      "metadata": {
        "id": "LitpdLE-pQPd",
        "colab_type": "code",
        "outputId": "0e9b1be2-80b0-4080-da89-829eb89d47b4",
        "colab": {
          "base_uri": "https://localhost:8080/",
          "height": 1000
        }
      },
      "source": [
        "# Data.world configuration\n",
        "!pip install datadotworld\n",
        "!pip install datadotworld[pandas]"
      ],
      "execution_count": 0,
      "outputs": [
        {
          "output_type": "stream",
          "text": [
            "Requirement already satisfied: datadotworld in /usr/local/lib/python3.6/dist-packages (1.7.0)\n",
            "Requirement already satisfied: configparser<4.0a,>=3.5.0 in /usr/local/lib/python3.6/dist-packages (from datadotworld) (3.8.1)\n",
            "Requirement already satisfied: six<2.0a,>=1.5.0 in /usr/local/lib/python3.6/dist-packages (from datadotworld) (1.12.0)\n",
            "Requirement already satisfied: requests<3.0a,>=2.0.0 in /usr/local/lib/python3.6/dist-packages (from datadotworld) (2.21.0)\n",
            "Requirement already satisfied: certifi>=2017.04.17 in /usr/local/lib/python3.6/dist-packages (from datadotworld) (2019.11.28)\n",
            "Requirement already satisfied: python-dateutil<3.0a,>=2.6.0 in /usr/local/lib/python3.6/dist-packages (from datadotworld) (2.6.1)\n",
            "Requirement already satisfied: tabulator>=1.22.0 in /usr/local/lib/python3.6/dist-packages (from datadotworld) (1.34.0)\n",
            "Requirement already satisfied: datapackage<2.0a,>=1.6.2 in /usr/local/lib/python3.6/dist-packages (from datadotworld) (1.11.1)\n",
            "Requirement already satisfied: tableschema<2.0a,>=1.5.2 in /usr/local/lib/python3.6/dist-packages (from datadotworld) (1.12.5)\n",
            "Requirement already satisfied: urllib3<2.0a,>=1.15 in /usr/local/lib/python3.6/dist-packages (from datadotworld) (1.24.3)\n",
            "Requirement already satisfied: click<7.0a,>=6.0 in /usr/local/lib/python3.6/dist-packages (from datadotworld) (6.7)\n",
            "Requirement already satisfied: chardet<3.1.0,>=3.0.2 in /usr/local/lib/python3.6/dist-packages (from requests<3.0a,>=2.0.0->datadotworld) (3.0.4)\n",
            "Requirement already satisfied: idna<2.9,>=2.5 in /usr/local/lib/python3.6/dist-packages (from requests<3.0a,>=2.0.0->datadotworld) (2.8)\n",
            "Requirement already satisfied: cchardet>=1.0 in /usr/local/lib/python3.6/dist-packages (from tabulator>=1.22.0->datadotworld) (2.1.5)\n",
            "Requirement already satisfied: linear-tsv>=1.0 in /usr/local/lib/python3.6/dist-packages (from tabulator>=1.22.0->datadotworld) (1.1.0)\n",
            "Requirement already satisfied: xlrd>=1.0 in /usr/local/lib/python3.6/dist-packages (from tabulator>=1.22.0->datadotworld) (1.1.0)\n",
            "Requirement already satisfied: jsonlines>=1.1 in /usr/local/lib/python3.6/dist-packages (from tabulator>=1.22.0->datadotworld) (1.2.0)\n",
            "Requirement already satisfied: boto3>=1.9 in /usr/local/lib/python3.6/dist-packages (from tabulator>=1.22.0->datadotworld) (1.11.14)\n",
            "Requirement already satisfied: unicodecsv>=0.14 in /usr/local/lib/python3.6/dist-packages (from tabulator>=1.22.0->datadotworld) (0.14.1)\n",
            "Requirement already satisfied: ijson>=2.5 in /usr/local/lib/python3.6/dist-packages (from tabulator>=1.22.0->datadotworld) (2.6.1)\n",
            "Requirement already satisfied: openpyxl>=2.6 in /usr/local/lib/python3.6/dist-packages (from tabulator>=1.22.0->datadotworld) (3.0.3)\n",
            "Requirement already satisfied: sqlalchemy>=0.9.6 in /usr/local/lib/python3.6/dist-packages (from tabulator>=1.22.0->datadotworld) (1.3.13)\n",
            "Requirement already satisfied: jsonschema>=2.5 in /usr/local/lib/python3.6/dist-packages (from datapackage<2.0a,>=1.6.2->datadotworld) (2.6.0)\n",
            "Requirement already satisfied: jsonpointer>=1.10 in /usr/local/lib/python3.6/dist-packages (from datapackage<2.0a,>=1.6.2->datadotworld) (2.0)\n",
            "Requirement already satisfied: isodate>=0.5.4 in /usr/local/lib/python3.6/dist-packages (from tableschema<2.0a,>=1.5.2->datadotworld) (0.6.0)\n",
            "Requirement already satisfied: rfc3986>=1.1.0 in /usr/local/lib/python3.6/dist-packages (from tableschema<2.0a,>=1.5.2->datadotworld) (1.3.2)\n",
            "Requirement already satisfied: botocore<1.15.0,>=1.14.14 in /usr/local/lib/python3.6/dist-packages (from boto3>=1.9->tabulator>=1.22.0->datadotworld) (1.14.14)\n",
            "Requirement already satisfied: s3transfer<0.4.0,>=0.3.0 in /usr/local/lib/python3.6/dist-packages (from boto3>=1.9->tabulator>=1.22.0->datadotworld) (0.3.3)\n",
            "Requirement already satisfied: jmespath<1.0.0,>=0.7.1 in /usr/local/lib/python3.6/dist-packages (from boto3>=1.9->tabulator>=1.22.0->datadotworld) (0.9.4)\n",
            "Requirement already satisfied: et-xmlfile in /usr/local/lib/python3.6/dist-packages (from openpyxl>=2.6->tabulator>=1.22.0->datadotworld) (1.0.1)\n",
            "Requirement already satisfied: jdcal in /usr/local/lib/python3.6/dist-packages (from openpyxl>=2.6->tabulator>=1.22.0->datadotworld) (1.4.1)\n",
            "Requirement already satisfied: docutils<0.16,>=0.10 in /usr/local/lib/python3.6/dist-packages (from botocore<1.15.0,>=1.14.14->boto3>=1.9->tabulator>=1.22.0->datadotworld) (0.15.2)\n",
            "Requirement already satisfied: datadotworld[pandas] in /usr/local/lib/python3.6/dist-packages (1.7.0)\n",
            "Requirement already satisfied: certifi>=2017.04.17 in /usr/local/lib/python3.6/dist-packages (from datadotworld[pandas]) (2019.11.28)\n",
            "Requirement already satisfied: urllib3<2.0a,>=1.15 in /usr/local/lib/python3.6/dist-packages (from datadotworld[pandas]) (1.24.3)\n",
            "Requirement already satisfied: python-dateutil<3.0a,>=2.6.0 in /usr/local/lib/python3.6/dist-packages (from datadotworld[pandas]) (2.6.1)\n",
            "Requirement already satisfied: requests<3.0a,>=2.0.0 in /usr/local/lib/python3.6/dist-packages (from datadotworld[pandas]) (2.21.0)\n",
            "Requirement already satisfied: configparser<4.0a,>=3.5.0 in /usr/local/lib/python3.6/dist-packages (from datadotworld[pandas]) (3.8.1)\n",
            "Requirement already satisfied: click<7.0a,>=6.0 in /usr/local/lib/python3.6/dist-packages (from datadotworld[pandas]) (6.7)\n",
            "Requirement already satisfied: datapackage<2.0a,>=1.6.2 in /usr/local/lib/python3.6/dist-packages (from datadotworld[pandas]) (1.11.1)\n",
            "Requirement already satisfied: six<2.0a,>=1.5.0 in /usr/local/lib/python3.6/dist-packages (from datadotworld[pandas]) (1.12.0)\n",
            "Requirement already satisfied: tabulator>=1.22.0 in /usr/local/lib/python3.6/dist-packages (from datadotworld[pandas]) (1.34.0)\n",
            "Requirement already satisfied: tableschema<2.0a,>=1.5.2 in /usr/local/lib/python3.6/dist-packages (from datadotworld[pandas]) (1.12.5)\n",
            "Requirement already satisfied: numpy<=1.16.4; extra == \"pandas\" in /usr/local/lib/python3.6/dist-packages (from datadotworld[pandas]) (1.16.4)\n",
            "Requirement already satisfied: pandas<0.25; extra == \"pandas\" in /usr/local/lib/python3.6/dist-packages (from datadotworld[pandas]) (0.24.2)\n",
            "Requirement already satisfied: idna<2.9,>=2.5 in /usr/local/lib/python3.6/dist-packages (from requests<3.0a,>=2.0.0->datadotworld[pandas]) (2.8)\n",
            "Requirement already satisfied: chardet<3.1.0,>=3.0.2 in /usr/local/lib/python3.6/dist-packages (from requests<3.0a,>=2.0.0->datadotworld[pandas]) (3.0.4)\n",
            "Requirement already satisfied: cchardet>=1.0 in /usr/local/lib/python3.6/dist-packages (from datapackage<2.0a,>=1.6.2->datadotworld[pandas]) (2.1.5)\n",
            "Requirement already satisfied: unicodecsv>=0.14 in /usr/local/lib/python3.6/dist-packages (from datapackage<2.0a,>=1.6.2->datadotworld[pandas]) (0.14.1)\n",
            "Requirement already satisfied: jsonschema>=2.5 in /usr/local/lib/python3.6/dist-packages (from datapackage<2.0a,>=1.6.2->datadotworld[pandas]) (2.6.0)\n",
            "Requirement already satisfied: jsonpointer>=1.10 in /usr/local/lib/python3.6/dist-packages (from datapackage<2.0a,>=1.6.2->datadotworld[pandas]) (2.0)\n",
            "Requirement already satisfied: boto3>=1.9 in /usr/local/lib/python3.6/dist-packages (from tabulator>=1.22.0->datadotworld[pandas]) (1.11.14)\n",
            "Requirement already satisfied: ijson>=2.5 in /usr/local/lib/python3.6/dist-packages (from tabulator>=1.22.0->datadotworld[pandas]) (2.6.1)\n",
            "Requirement already satisfied: openpyxl>=2.6 in /usr/local/lib/python3.6/dist-packages (from tabulator>=1.22.0->datadotworld[pandas]) (3.0.3)\n",
            "Requirement already satisfied: linear-tsv>=1.0 in /usr/local/lib/python3.6/dist-packages (from tabulator>=1.22.0->datadotworld[pandas]) (1.1.0)\n",
            "Requirement already satisfied: jsonlines>=1.1 in /usr/local/lib/python3.6/dist-packages (from tabulator>=1.22.0->datadotworld[pandas]) (1.2.0)\n",
            "Requirement already satisfied: xlrd>=1.0 in /usr/local/lib/python3.6/dist-packages (from tabulator>=1.22.0->datadotworld[pandas]) (1.1.0)\n",
            "Requirement already satisfied: sqlalchemy>=0.9.6 in /usr/local/lib/python3.6/dist-packages (from tabulator>=1.22.0->datadotworld[pandas]) (1.3.13)\n",
            "Requirement already satisfied: isodate>=0.5.4 in /usr/local/lib/python3.6/dist-packages (from tableschema<2.0a,>=1.5.2->datadotworld[pandas]) (0.6.0)\n",
            "Requirement already satisfied: rfc3986>=1.1.0 in /usr/local/lib/python3.6/dist-packages (from tableschema<2.0a,>=1.5.2->datadotworld[pandas]) (1.3.2)\n",
            "Requirement already satisfied: pytz>=2011k in /usr/local/lib/python3.6/dist-packages (from pandas<0.25; extra == \"pandas\"->datadotworld[pandas]) (2018.9)\n",
            "Requirement already satisfied: botocore<1.15.0,>=1.14.14 in /usr/local/lib/python3.6/dist-packages (from boto3>=1.9->tabulator>=1.22.0->datadotworld[pandas]) (1.14.14)\n",
            "Requirement already satisfied: jmespath<1.0.0,>=0.7.1 in /usr/local/lib/python3.6/dist-packages (from boto3>=1.9->tabulator>=1.22.0->datadotworld[pandas]) (0.9.4)\n",
            "Requirement already satisfied: s3transfer<0.4.0,>=0.3.0 in /usr/local/lib/python3.6/dist-packages (from boto3>=1.9->tabulator>=1.22.0->datadotworld[pandas]) (0.3.3)\n",
            "Requirement already satisfied: et-xmlfile in /usr/local/lib/python3.6/dist-packages (from openpyxl>=2.6->tabulator>=1.22.0->datadotworld[pandas]) (1.0.1)\n",
            "Requirement already satisfied: jdcal in /usr/local/lib/python3.6/dist-packages (from openpyxl>=2.6->tabulator>=1.22.0->datadotworld[pandas]) (1.4.1)\n",
            "Requirement already satisfied: docutils<0.16,>=0.10 in /usr/local/lib/python3.6/dist-packages (from botocore<1.15.0,>=1.14.14->boto3>=1.9->tabulator>=1.22.0->datadotworld[pandas]) (0.15.2)\n"
          ],
          "name": "stdout"
        }
      ]
    },
    {
      "cell_type": "code",
      "metadata": {
        "id": "NLPi7aeqpZxQ",
        "colab_type": "code",
        "colab": {}
      },
      "source": [
        "# !dw configure"
      ],
      "execution_count": 0,
      "outputs": []
    },
    {
      "cell_type": "code",
      "metadata": {
        "id": "sInDZPfdpjn7",
        "colab_type": "code",
        "colab": {}
      },
      "source": [
        "# Importing libraries\n",
        "from google.colab import drive\n",
        "import pandas as pd\n",
        "import numpy as np\n",
        "\n",
        "#Importing data.world library\n",
        "import datadotworld as dw"
      ],
      "execution_count": 0,
      "outputs": []
    },
    {
      "cell_type": "code",
      "metadata": {
        "id": "2XkcrS0epu2h",
        "colab_type": "code",
        "outputId": "4599cf6e-c4a3-415a-d1db-22132d5fd93b",
        "colab": {
          "base_uri": "https://localhost:8080/",
          "height": 34
        }
      },
      "source": [
        "# Linking Colab to Google Drive\n",
        "drive.mount(\"/content/drive\")"
      ],
      "execution_count": 0,
      "outputs": [
        {
          "output_type": "stream",
          "text": [
            "Drive already mounted at /content/drive; to attempt to forcibly remount, call drive.mount(\"/content/drive\", force_remount=True).\n"
          ],
          "name": "stdout"
        }
      ]
    },
    {
      "cell_type": "code",
      "metadata": {
        "id": "qq4ZZx2IpyBX",
        "colab_type": "code",
        "outputId": "16818958-174b-47bd-8370-da94d7d3f954",
        "colab": {
          "base_uri": "https://localhost:8080/",
          "height": 34
        }
      },
      "source": [
        "cd \"drive/My Drive/Colab Notebooks\"\n"
      ],
      "execution_count": 0,
      "outputs": [
        {
          "output_type": "stream",
          "text": [
            "/content/drive/My Drive/Colab Notebooks\n"
          ],
          "name": "stdout"
        }
      ]
    },
    {
      "cell_type": "code",
      "metadata": {
        "id": "4K_ikPlGqDi0",
        "colab_type": "code",
        "outputId": "a51321e8-e864-4777-9d8f-2e2ea4513434",
        "colab": {
          "base_uri": "https://localhost:8080/",
          "height": 34
        }
      },
      "source": [
        "ls"
      ],
      "execution_count": 0,
      "outputs": [
        {
          "output_type": "stream",
          "text": [
            "ColabDriveGithub.ipynb  \u001b[0m\u001b[01;34mdataworkshop_matrix\u001b[0m/  ML_day4.ipynb\n"
          ],
          "name": "stdout"
        }
      ]
    },
    {
      "cell_type": "code",
      "metadata": {
        "id": "npENFOuDqFu8",
        "colab_type": "code",
        "colab": {}
      },
      "source": [
        "# Loading dataset from data.world\n",
        "data = dw.load_dataset('datafiniti/mens-shoe-prices')"
      ],
      "execution_count": 0,
      "outputs": []
    },
    {
      "cell_type": "code",
      "metadata": {
        "id": "2D3ocSxhqRIj",
        "colab_type": "code",
        "outputId": "69f81046-4bae-4a2f-ab22-3b88d1a39d6f",
        "colab": {
          "base_uri": "https://localhost:8080/",
          "height": 105
        }
      },
      "source": [
        "df = data.dataframes['7004_1']"
      ],
      "execution_count": 0,
      "outputs": [
        {
          "output_type": "stream",
          "text": [
            "/usr/local/lib/python3.6/dist-packages/datadotworld/models/dataset.py:209: UserWarning: Unable to set data frame dtypes automatically using 7004_1 schema. Data types may need to be adjusted manually. Error: Integer column has NA values in column 10\n",
            "  'Error: {}'.format(resource_name, e))\n",
            "/usr/local/lib/python3.6/dist-packages/datadotworld/util.py:121: DtypeWarning: Columns (39,45) have mixed types. Specify dtype option on import or set low_memory=False.\n",
            "  return self._loader_func()\n"
          ],
          "name": "stderr"
        }
      ]
    },
    {
      "cell_type": "code",
      "metadata": {
        "id": "7V01WYluqTTv",
        "colab_type": "code",
        "outputId": "88a622fb-fced-474e-e924-a6bd97770155",
        "colab": {
          "base_uri": "https://localhost:8080/",
          "height": 282
        }
      },
      "source": [
        "# Filtering all data with currency = USD\n",
        "df_usd = df[ df.prices_currency == 'USD' ].copy()\n",
        "\n",
        "# Changing type of amountmin to float\n",
        "df_usd['prices_amountmin'] = df_usd.prices_amountmin.astype(np.float)\n",
        "\n",
        "# Cutting outliers - 1% of data\n",
        "filter_max = np.percentile( df_usd['prices_amountmin'], 99 )\n",
        "df_usd_filter = df_usd[ df_usd['prices_amountmin'] < filter_max ]\n",
        "\n",
        "# Visualization\n",
        "df_usd_filter.prices_amountmin.hist(bins=100)"
      ],
      "execution_count": 0,
      "outputs": [
        {
          "output_type": "execute_result",
          "data": {
            "text/plain": [
              "<matplotlib.axes._subplots.AxesSubplot at 0x7f1f6c11a630>"
            ]
          },
          "metadata": {
            "tags": []
          },
          "execution_count": 11
        },
        {
          "output_type": "display_data",
          "data": {
            "image/png": "[encoded data removed]",
            "text/plain": [
              "<Figure size 432x288 with 1 Axes>"
            ]
          },
          "metadata": {
            "tags": []
          }
        }
      ]
    },
    {
      "cell_type": "code",
      "metadata": {
        "id": "rr35ZqbsqqUj",
        "colab_type": "code",
        "outputId": "84dffb02-0bd3-438d-9565-0adf4510dc12",
        "colab": {
          "base_uri": "https://localhost:8080/",
          "height": 34
        }
      },
      "source": [
        "ls"
      ],
      "execution_count": 0,
      "outputs": [
        {
          "output_type": "stream",
          "text": [
            "\u001b[0m\u001b[01;34mdrive\u001b[0m/  \u001b[01;34msample_data\u001b[0m/\n"
          ],
          "name": "stdout"
        }
      ]
    },
    {
      "cell_type": "code",
      "metadata": {
        "id": "c9Yyof2qrjY1",
        "colab_type": "code",
        "outputId": "61ea4ea8-eff3-4c36-be5c-fc42c192bc99",
        "colab": {
          "base_uri": "https://localhost:8080/",
          "height": 34
        }
      },
      "source": [
        "cd drive"
      ],
      "execution_count": 0,
      "outputs": [
        {
          "output_type": "stream",
          "text": [
            "/content/drive\n"
          ],
          "name": "stdout"
        }
      ]
    },
    {
      "cell_type": "code",
      "metadata": {
        "id": "VtcNRQRyseG9",
        "colab_type": "code",
        "outputId": "b0ed5143-6634-4840-b041-1d12810f108b",
        "colab": {
          "base_uri": "https://localhost:8080/",
          "height": 34
        }
      },
      "source": [
        "cd \"My Drive/Colab Notebooks\""
      ],
      "execution_count": 0,
      "outputs": [
        {
          "output_type": "stream",
          "text": [
            "/content/drive/My Drive/Colab Notebooks\n"
          ],
          "name": "stdout"
        }
      ]
    },
    {
      "cell_type": "code",
      "metadata": {
        "id": "p2JmwIsSshRc",
        "colab_type": "code",
        "outputId": "1ae0610c-36ae-449e-cf80-248859d50ef2",
        "colab": {
          "base_uri": "https://localhost:8080/",
          "height": 34
        }
      },
      "source": [
        "ls"
      ],
      "execution_count": 0,
      "outputs": [
        {
          "output_type": "stream",
          "text": [
            "ColabDriveGithub.ipynb  \u001b[0m\u001b[01;34mdata\u001b[0m/  \u001b[01;34mdataworkshop_matrix\u001b[0m/\n"
          ],
          "name": "stdout"
        }
      ]
    },
    {
      "cell_type": "code",
      "metadata": {
        "id": "iHyQHQEIskvI",
        "colab_type": "code",
        "colab": {}
      },
      "source": [
        "# Saving data to csv locally\n",
        "df_usd_filter.to_csv('data/men_shoes.csv', index=False)"
      ],
      "execution_count": 0,
      "outputs": []
    },
    {
      "cell_type": "code",
      "metadata": {
        "id": "giPZDzkLwjNe",
        "colab_type": "code",
        "outputId": "835c5d72-21b4-4256-f009-e052b1b6c69c",
        "colab": {
          "base_uri": "https://localhost:8080/",
          "height": 34
        }
      },
      "source": [
        "!cat .gitignore"
      ],
      "execution_count": 0,
      "outputs": [
        {
          "output_type": "stream",
          "text": [
            "data\n"
          ],
          "name": "stdout"
        }
      ]
    }
  ]
}